{
 "cells": [
  {
   "cell_type": "markdown",
   "metadata": {},
   "source": [
    "## Способы создания строк\n"
   ]
  },
  {
   "cell_type": "code",
   "execution_count": 2,
   "metadata": {},
   "outputs": [
    {
     "name": "stdout",
     "output_type": "stream",
     "text": [
      "type(foo): <class 'str'>\n",
      "type(bar): <class 'str'>\n"
     ]
    }
   ],
   "source": [
    "# Однострочные (single line) строки\n",
    "foo = \"Hello\"\n",
    "bar = 'Привет'\n",
    "\n",
    "print(\"type(foo):\", type(foo))\n",
    "print(\"type(bar):\", type(bar))"
   ]
  },
  {
   "cell_type": "code",
   "execution_count": 4,
   "metadata": {},
   "outputs": [
    {
     "name": "stdout",
     "output_type": "stream",
     "text": [
      "type(foo): <class 'str'>\n",
      "type(bar): <class 'str'>\n",
      "\n",
      "foo: Lorem ipsum dolor sit amet,\n",
      "consectetur adipiscing elit,\n",
      "sed do eiusmod tempor incididunt\n",
      "ut labore et dolore magna aliqua.\n"
     ]
    }
   ],
   "source": [
    "# Многострочные (multiline) строки\n",
    "\n",
    "foo = \"\"\"Lorem ipsum dolor sit amet,\n",
    "consectetur adipiscing elit,\n",
    "sed do eiusmod tempor incididunt\n",
    "ut labore et dolore magna aliqua.\"\"\"\n",
    "\n",
    "bar = '''Lorem ipsum dolor sit amet,\n",
    "consectetur adipiscing elit,\n",
    "sed do eiusmod tempor incididunt\n",
    "ut labore et dolore magna aliqua.'''\n",
    "\n",
    "print(\"type(foo):\", type(foo))\n",
    "print(\"type(bar):\", type(bar))\n",
    "\n",
    "print()\n",
    "print(\"foo:\", foo)"
   ]
  },
  {
   "cell_type": "code",
   "execution_count": 9,
   "metadata": {},
   "outputs": [
    {
     "name": "stdout",
     "output_type": "stream",
     "text": [
      "foo: Lorem ipsum dolor sit amet,\n",
      "consectetur adipiscing elit,\n",
      "sed do eiusmod tempor incididunt\n",
      "ut labore et dolore magna aliqua.\n",
      "----\n",
      "bar: Lorem ipsum dolor sit amet,\n",
      "    consectetur adipiscing elit,\n",
      "    sed do eiusmod tempor incididunt\n",
      "    ut labore et dolore magna aliqua.\n"
     ]
    }
   ],
   "source": [
    "# Отступы и многострочный текст\n",
    "\n",
    "if True:\n",
    "    foo = \"\"\"Lorem ipsum dolor sit amet,\n",
    "consectetur adipiscing elit,\n",
    "sed do eiusmod tempor incididunt\n",
    "ut labore et dolore magna aliqua.\"\"\"\n",
    "    \n",
    "    bar = \"\"\"Lorem ipsum dolor sit amet,\n",
    "    consectetur adipiscing elit,\n",
    "    sed do eiusmod tempor incididunt\n",
    "    ut labore et dolore magna aliqua.\"\"\"\n",
    "        \n",
    "    print(\"foo:\", foo)\n",
    "    print(\"----\")\n",
    "    print(\"bar:\", bar)"
   ]
  },
  {
   "cell_type": "code",
   "execution_count": 27,
   "metadata": {},
   "outputs": [
    {
     "name": "stdout",
     "output_type": "stream",
     "text": [
      "foo:  Этот текст содержит 'одинарные' кавычки\n",
      "bar:  Этот текст содержит \"двойные\" кавычки\n",
      "spam: Этот текст содержит 'одинарные' кавычки\n",
      "eggs: Этот текст содержит \"двойные\" кавычки\n"
     ]
    }
   ],
   "source": [
    "# Использование кавычек в тексте\n",
    "\n",
    "foo = \"Этот текст содержит 'одинарные' кавычки\"\n",
    "bar = 'Этот текст содержит \"двойные\" кавычки'\n",
    "spam = 'Этот текст содержит \\'одинарные\\' кавычки'\n",
    "eggs = \"Этот текст содержит \\\"двойные\\\" кавычки\"\n",
    "\n",
    "print(\"foo: \", foo)\n",
    "print(\"bar: \", bar)\n",
    "print(\"spam:\", spam)\n",
    "print(\"eggs:\", eggs)"
   ]
  },
  {
   "cell_type": "code",
   "execution_count": 32,
   "metadata": {},
   "outputs": [
    {
     "name": "stdout",
     "output_type": "stream",
     "text": [
      "foo:  Этот текст содержит 'одинарные' кавычки\n",
      "bar:  Этот текст содержит \"двойные\" кавычки\n"
     ]
    }
   ],
   "source": [
    "# Использование кавычек в тексте\n",
    "\n",
    "foo = '''Этот текст содержит 'одинарные' кавычки'''\n",
    "bar = \"\"\"Этот текст содержит \"двойные\" кавычки\"\"\"\n",
    "\n",
    "print(\"foo: \", foo)\n",
    "print(\"bar: \", bar)"
   ]
  },
  {
   "cell_type": "code",
   "execution_count": 35,
   "metadata": {},
   "outputs": [
    {
     "name": "stdout",
     "output_type": "stream",
     "text": [
      "foo:  Этот текст содержит обратные \\слеши\\\n",
      "bar:  Этот текст содержит обратные \\слеши\\\n"
     ]
    }
   ],
   "source": [
    "# Использование обратных слешей в тексте\n",
    "\n",
    "foo = \"Этот текст содержит обратные \\слеши\\\\\"\n",
    "bar = \"Этот текст содержит обратные \\\\слеши\\\\\"\n",
    "\n",
    "print(\"foo: \", foo)\n",
    "print(\"bar: \", bar)"
   ]
  },
  {
   "cell_type": "code",
   "execution_count": 31,
   "metadata": {},
   "outputs": [
    {
     "name": "stdout",
     "output_type": "stream",
     "text": [
      "foo:  Lorem ipsum dolor sit amet,\n",
      "consectetur adipiscing elit\n",
      "bar:  Lorem ipsum dolor sit amet,\tconsectetur adipiscing elit\n"
     ]
    }
   ],
   "source": [
    "foo = \"Lorem ipsum dolor sit amet,\\nconsectetur adipiscing elit\"\n",
    "bar = \"Lorem ipsum dolor sit amet,\\tconsectetur adipiscing elit\"\n",
    "\n",
    "print(\"foo: \", foo)\n",
    "print(\"bar: \", bar)"
   ]
  },
  {
   "cell_type": "code",
   "execution_count": 45,
   "metadata": {},
   "outputs": [
    {
     "name": "stdout",
     "output_type": "stream",
     "text": [
      "foo:  Этот текст\\tсодержит \\\\ слишком много \\\\ обратных слешей\\n\n",
      "bar:  Этот текст\\tсодержит \\\\ слишком много \\\\ обратных слешей\\n\n"
     ]
    }
   ],
   "source": [
    "# Использование \"сырых\" (raw) строк\n",
    "\n",
    "foo = \"Этот текст\\\\tсодержит \\\\\\\\ слишком много \\\\\\\\ обратных слешей\\\\n\"\n",
    "bar = r'Этот текст\\tсодержит \\\\ слишком много \\\\ обратных слешей\\n'\n",
    "\n",
    "print(\"foo: \", foo)\n",
    "print(\"bar: \", bar)"
   ]
  },
  {
   "cell_type": "code",
   "execution_count": 61,
   "metadata": {},
   "outputs": [
    {
     "name": "stdout",
     "output_type": "stream",
     "text": [
      "foo: Это символ Unicode - δ\n",
      "bar: Это символ Unicode - 🤣\n"
     ]
    }
   ],
   "source": [
    "# Вставка символов Unicode по коду\n",
    "\n",
    "foo = \"Это символ Unicode - \\u03b4\"\n",
    "bar = \"Это символ Unicode - \\U0001F923\"\n",
    "\n",
    "print(\"foo:\", foo)\n",
    "print(\"bar:\", bar)"
   ]
  },
  {
   "cell_type": "code",
   "execution_count": 63,
   "metadata": {},
   "outputs": [
    {
     "name": "stdout",
     "output_type": "stream",
     "text": [
      "foo: Это символ Unicode - δ\n",
      "bar: Это символ Unicode - 🤣\n"
     ]
    }
   ],
   "source": [
    "# Вставка символов Unicode по названию\n",
    "\n",
    "foo = \"Это символ Unicode - \\N{Greek Small Letter Delta}\"\n",
    "bar = \"Это символ Unicode - \\N{rolling on the floor laughing}\"\n",
    "\n",
    "print(\"foo:\", foo)\n",
    "print(\"bar:\", bar)"
   ]
  },
  {
   "cell_type": "code",
   "execution_count": 64,
   "metadata": {},
   "outputs": [
    {
     "name": "stdout",
     "output_type": "stream",
     "text": [
      "foo: Это символ Unicode - δ\n",
      "bar: Это символ Unicode - 🤣\n"
     ]
    }
   ],
   "source": [
    "# Вставка символов Unicode непосредственно в текст\n",
    "\n",
    "foo = \"Это символ Unicode - δ\"\n",
    "bar = \"Это символ Unicode - 🤣\"\n",
    "\n",
    "print(\"foo:\", foo)\n",
    "print(\"bar:\", bar)"
   ]
  },
  {
   "cell_type": "code",
   "execution_count": 46,
   "metadata": {},
   "outputs": [
    {
     "name": "stdout",
     "output_type": "stream",
     "text": [
      "foo_str:  10\n",
      "bar_str:  20.5\n",
      "spam_str: (15-5j)\n",
      "eggs_str: {'key_1': 10, 'key_2': 20, 'key_3': 30}\n",
      "baz_str:  [10, 20, 42]\n"
     ]
    }
   ],
   "source": [
    "# Создание строкового представления объектов с помощью функции str()\n",
    "\n",
    "foo = 10\n",
    "foo_str = str(foo)\n",
    "\n",
    "bar = 20.5\n",
    "bar_str = str(bar)\n",
    "\n",
    "spam = 15 - 5j\n",
    "spam_str = str(spam)\n",
    "\n",
    "eggs = {\"key_1\": 10, \"key_2\": 20, \"key_3\": 30}\n",
    "eggs_str = str(eggs)\n",
    "\n",
    "baz = [10, 20, 42]\n",
    "baz_str = str(baz)\n",
    "\n",
    "print(\"foo_str: \", foo_str)\n",
    "print(\"bar_str: \", bar_str)\n",
    "print(\"spam_str:\", spam_str)\n",
    "print(\"eggs_str:\", eggs_str)\n",
    "print(\"baz_str: \", baz_str)"
   ]
  },
  {
   "cell_type": "code",
   "execution_count": 47,
   "metadata": {},
   "outputs": [
    {
     "name": "stdout",
     "output_type": "stream",
     "text": [
      "foo_str:  10\n",
      "foo_repr:  10\n",
      "bar_str:  20.5\n",
      "bar_repr:  20.5\n",
      "baz_str:  [10, 20, 42]\n",
      "baz_repr:  [10, 20, 42]\n"
     ]
    }
   ],
   "source": [
    "# Создание строкового представления объектов с помощью функции repr()\n",
    "\n",
    "foo = 10\n",
    "foo_str = str(foo)\n",
    "foo_repr = repr(foo)\n",
    "\n",
    "bar = 20.5\n",
    "bar_str = str(bar)\n",
    "bar_repr = repr(bar)\n",
    "\n",
    "baz = [10, 20, 42]\n",
    "baz_str = str(baz)\n",
    "baz_repr = repr(baz)\n",
    "\n",
    "print(\"foo_str: \", foo_str)\n",
    "print(\"foo_repr: \", foo_repr)\n",
    "\n",
    "print(\"bar_str: \", bar_str)\n",
    "print(\"bar_repr: \", bar_repr)\n",
    "\n",
    "print(\"baz_str: \", baz_str)\n",
    "print(\"baz_repr: \", baz_repr)"
   ]
  },
  {
   "cell_type": "code",
   "execution_count": 17,
   "metadata": {},
   "outputs": [
    {
     "name": "stdout",
     "output_type": "stream",
     "text": [
      "str(date):  2024-03-10 18:40:02\n",
      "repr(date): datetime.datetime(2024, 3, 10, 18, 40, 2)\n",
      "date:       2024-03-10 18:40:02\n"
     ]
    }
   ],
   "source": [
    "import datetime\n",
    "\n",
    "date = datetime.datetime(2024, 3, 10, 18, 40, 2)\n",
    "\n",
    "print(\"str(date): \", str(date))\n",
    "print(\"repr(date):\", repr(date))\n",
    "print(\"date:      \", date)\n"
   ]
  },
  {
   "cell_type": "code",
   "execution_count": null,
   "metadata": {},
   "outputs": [],
   "source": []
  }
 ],
 "metadata": {
  "kernelspec": {
   "display_name": "Python 3",
   "language": "python",
   "name": "python3"
  },
  "language_info": {
   "codemirror_mode": {
    "name": "ipython",
    "version": 3
   },
   "file_extension": ".py",
   "mimetype": "text/x-python",
   "name": "python",
   "nbconvert_exporter": "python",
   "pygments_lexer": "ipython3",
   "version": "3.11.8"
  }
 },
 "nbformat": 4,
 "nbformat_minor": 2
}
