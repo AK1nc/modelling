{
 "cells": [
  {
   "cell_type": "markdown",
   "metadata": {},
   "source": [
    "## Способы создания строк\n"
   ]
  },
  {
   "cell_type": "code",
   "execution_count": 29,
   "metadata": {},
   "outputs": [
    {
     "name": "stdout",
     "output_type": "stream",
     "text": [
      "type(foo): <class 'str'>\n",
      "type(bar): <class 'str'>\n"
     ]
    }
   ],
   "source": [
    "# Однострочные (single line) строки\n",
    "foo = \"Hello\"\n",
    "bar = 'Привет'\n",
    "\n",
    "print(\"type(foo):\", type(foo))\n",
    "print(\"type(bar):\", type(bar))"
   ]
  },
  {
   "cell_type": "code",
   "execution_count": 30,
   "metadata": {},
   "outputs": [
    {
     "name": "stdout",
     "output_type": "stream",
     "text": [
      "type(foo): <class 'str'>\n",
      "type(bar): <class 'str'>\n",
      "\n",
      "foo: Lorem ipsum dolor sit amet,\n",
      "consectetur adipiscing elit,\n",
      "sed do eiusmod tempor incididunt\n",
      "ut labore et dolore magna aliqua.\n",
      "\n",
      "bar: Lorem ipsum dolor sit amet,\n",
      "consectetur adipiscing elit,\n",
      "sed do eiusmod tempor incididunt\n",
      "ut labore et dolore magna aliqua.\n"
     ]
    }
   ],
   "source": [
    "# Многострочные (multiline) строки\n",
    "\n",
    "foo = \"\"\"Lorem ipsum dolor sit amet,\n",
    "consectetur adipiscing elit,\n",
    "sed do eiusmod tempor incididunt\n",
    "ut labore et dolore magna aliqua.\"\"\"\n",
    "\n",
    "bar = '''Lorem ipsum dolor sit amet,\n",
    "consectetur adipiscing elit,\n",
    "sed do eiusmod tempor incididunt\n",
    "ut labore et dolore magna aliqua.'''\n",
    "\n",
    "print(\"type(foo):\", type(foo))\n",
    "print(\"type(bar):\", type(bar))\n",
    "\n",
    "print()\n",
    "print(\"foo:\", foo)\n",
    "print()\n",
    "print(\"bar:\", bar)"
   ]
  },
  {
   "cell_type": "code",
   "execution_count": 31,
   "metadata": {},
   "outputs": [
    {
     "name": "stdout",
     "output_type": "stream",
     "text": [
      "foo: Lorem ipsum dolor sit amet,\n",
      "consectetur adipiscing elit,\n",
      "sed do eiusmod tempor incididunt\n",
      "ut labore et dolore magna aliqua.\n",
      "\n",
      "bar: Lorem ipsum dolor sit amet,\n",
      "    consectetur adipiscing elit,\n",
      "    sed do eiusmod tempor incididunt\n",
      "    ut labore et dolore magna aliqua.\n"
     ]
    }
   ],
   "source": [
    "# Отступы и многострочный текст\n",
    "\n",
    "if True:\n",
    "    foo = \"\"\"Lorem ipsum dolor sit amet,\n",
    "consectetur adipiscing elit,\n",
    "sed do eiusmod tempor incididunt\n",
    "ut labore et dolore magna aliqua.\"\"\"\n",
    "    \n",
    "    bar = \"\"\"Lorem ipsum dolor sit amet,\n",
    "    consectetur adipiscing elit,\n",
    "    sed do eiusmod tempor incididunt\n",
    "    ut labore et dolore magna aliqua.\"\"\"\n",
    "        \n",
    "    print(\"foo:\", foo)\n",
    "    print()\n",
    "    print(\"bar:\", bar)"
   ]
  },
  {
   "cell_type": "code",
   "execution_count": 32,
   "metadata": {},
   "outputs": [
    {
     "name": "stdout",
     "output_type": "stream",
     "text": [
      "foo:  Этот текст содержит 'одинарные' кавычки\n",
      "bar:  Этот текст содержит \"двойные\" кавычки\n",
      "spam: Этот текст содержит 'одинарные' кавычки\n",
      "eggs: Этот текст содержит \"двойные\" кавычки\n"
     ]
    }
   ],
   "source": [
    "# Использование кавычек в тексте\n",
    "\n",
    "foo = \"Этот текст содержит 'одинарные' кавычки\"\n",
    "bar = 'Этот текст содержит \"двойные\" кавычки'\n",
    "spam = 'Этот текст содержит \\'одинарные\\' кавычки'\n",
    "eggs = \"Этот текст содержит \\\"двойные\\\" кавычки\"\n",
    "\n",
    "print(\"foo: \", foo)\n",
    "print(\"bar: \", bar)\n",
    "print(\"spam:\", spam)\n",
    "print(\"eggs:\", eggs)"
   ]
  },
  {
   "cell_type": "code",
   "execution_count": 33,
   "metadata": {},
   "outputs": [
    {
     "name": "stdout",
     "output_type": "stream",
     "text": [
      "foo:  Этот текст содержит 'одинарные' кавычки\n",
      "bar:  Этот текст содержит \"двойные\" кавычки\n"
     ]
    }
   ],
   "source": [
    "# Использование кавычек в тексте\n",
    "\n",
    "foo = '''Этот текст содержит 'одинарные' кавычки'''\n",
    "bar = \"\"\"Этот текст содержит \"двойные\" кавычки\"\"\"\n",
    "\n",
    "print(\"foo: \", foo)\n",
    "print(\"bar: \", bar)"
   ]
  },
  {
   "cell_type": "code",
   "execution_count": 34,
   "metadata": {},
   "outputs": [
    {
     "name": "stdout",
     "output_type": "stream",
     "text": [
      "foo:  Этот текст содержит обратные \\слеши\\\n",
      "bar:  Этот текст содержит обратные \\слеши\\\n"
     ]
    }
   ],
   "source": [
    "# Использование обратных слешей в тексте\n",
    "\n",
    "foo = \"Этот текст содержит обратные \\слеши\\\\\"\n",
    "bar = \"Этот текст содержит обратные \\\\слеши\\\\\"\n",
    "\n",
    "print(\"foo: \", foo)\n",
    "print(\"bar: \", bar)"
   ]
  },
  {
   "cell_type": "code",
   "execution_count": 35,
   "metadata": {},
   "outputs": [
    {
     "name": "stdout",
     "output_type": "stream",
     "text": [
      "foo:  Lorem ipsum dolor sit amet,\n",
      "consectetur adipiscing elit\n",
      "\n",
      "bar:  Lorem ipsum dolor sit amet,\tconsectetur adipiscing elit\n"
     ]
    }
   ],
   "source": [
    "foo = \"Lorem ipsum dolor sit amet,\\nconsectetur adipiscing elit\"\n",
    "bar = \"Lorem ipsum dolor sit amet,\\tconsectetur adipiscing elit\"\n",
    "\n",
    "print(\"foo: \", foo)\n",
    "print()\n",
    "print(\"bar: \", bar)"
   ]
  },
  {
   "cell_type": "code",
   "execution_count": 36,
   "metadata": {},
   "outputs": [
    {
     "name": "stdout",
     "output_type": "stream",
     "text": [
      "foo:  Этот текст\\tсодержит \\\\ слишком много \\\\ обратных слешей\\n\n",
      "bar:  Этот текст\\tсодержит \\\\ слишком много \\\\ обратных слешей\\n\n"
     ]
    }
   ],
   "source": [
    "# Использование \"сырых\" (raw) строк\n",
    "\n",
    "foo = \"Этот текст\\\\tсодержит \\\\\\\\ слишком много \\\\\\\\ обратных слешей\\\\n\"\n",
    "bar = r'Этот текст\\tсодержит \\\\ слишком много \\\\ обратных слешей\\n'\n",
    "\n",
    "print(\"foo: \", foo)\n",
    "print(\"bar: \", bar)"
   ]
  },
  {
   "cell_type": "code",
   "execution_count": 37,
   "metadata": {},
   "outputs": [
    {
     "name": "stdout",
     "output_type": "stream",
     "text": [
      "foo: Это символ Unicode - δ\n",
      "bar: Это символ Unicode - 🤣\n"
     ]
    }
   ],
   "source": [
    "# Вставка символов Unicode по коду\n",
    "\n",
    "foo = \"Это символ Unicode - \\u03b4\"\n",
    "bar = \"Это символ Unicode - \\U0001f923\"\n",
    "\n",
    "print(\"foo:\", foo)\n",
    "print(\"bar:\", bar)"
   ]
  },
  {
   "cell_type": "code",
   "execution_count": 38,
   "metadata": {},
   "outputs": [
    {
     "name": "stdout",
     "output_type": "stream",
     "text": [
      "foo: Это символ Unicode - δ\n",
      "bar: Это символ Unicode - 🤣\n"
     ]
    }
   ],
   "source": [
    "# Вставка символов Unicode по названию\n",
    "\n",
    "foo = \"Это символ Unicode - \\N{Greek Small Letter Delta}\"\n",
    "bar = \"Это символ Unicode - \\N{rolling on the floor laughing}\"\n",
    "\n",
    "print(\"foo:\", foo)\n",
    "print(\"bar:\", bar)"
   ]
  },
  {
   "cell_type": "code",
   "execution_count": 39,
   "metadata": {},
   "outputs": [
    {
     "name": "stdout",
     "output_type": "stream",
     "text": [
      "foo: Это символ Unicode - δ\n",
      "bar: Это символ Unicode - 🤣\n"
     ]
    }
   ],
   "source": [
    "# Вставка символов Unicode непосредственно в текст\n",
    "\n",
    "foo = \"Это символ Unicode - δ\"\n",
    "bar = \"Это символ Unicode - 🤣\"\n",
    "\n",
    "print(\"foo:\", foo)\n",
    "print(\"bar:\", bar)"
   ]
  },
  {
   "cell_type": "code",
   "execution_count": 40,
   "metadata": {},
   "outputs": [
    {
     "name": "stdout",
     "output_type": "stream",
     "text": [
      "foo_str:  10\n",
      "bar_str:  20.5\n",
      "spam_str: (15-5j)\n",
      "eggs_str: {'key_1': 10, 'key_2': 20, 'key_3': 30}\n",
      "baz_str:  [10, 20, 42]\n"
     ]
    }
   ],
   "source": [
    "# Создание строкового представления объектов с помощью функции str()\n",
    "\n",
    "foo = 10\n",
    "foo_str = str(foo)\n",
    "\n",
    "bar = 20.5\n",
    "bar_str = str(bar)\n",
    "\n",
    "spam = 15 - 5j\n",
    "spam_str = str(spam)\n",
    "\n",
    "eggs = {\"key_1\": 10, \"key_2\": 20, \"key_3\": 30}\n",
    "eggs_str = str(eggs)\n",
    "\n",
    "baz = [10, 20, 42]\n",
    "baz_str = str(baz)\n",
    "\n",
    "print(\"foo_str: \", foo_str)\n",
    "print(\"bar_str: \", bar_str)\n",
    "print(\"spam_str:\", spam_str)\n",
    "print(\"eggs_str:\", eggs_str)\n",
    "print(\"baz_str: \", baz_str)"
   ]
  },
  {
   "cell_type": "code",
   "execution_count": 41,
   "metadata": {},
   "outputs": [
    {
     "name": "stdout",
     "output_type": "stream",
     "text": [
      "foo_str:  10\n",
      "foo_repr:  10\n",
      "bar_str:  20.5\n",
      "bar_repr:  20.5\n",
      "baz_str:  [10, 20, 42]\n",
      "baz_repr:  [10, 20, 42]\n"
     ]
    }
   ],
   "source": [
    "# Создание строкового представления объектов с помощью функции repr()\n",
    "\n",
    "foo = 10\n",
    "foo_str = str(foo)\n",
    "foo_repr = repr(foo)\n",
    "\n",
    "bar = 20.5\n",
    "bar_str = str(bar)\n",
    "bar_repr = repr(bar)\n",
    "\n",
    "baz = [10, 20, 42]\n",
    "baz_str = str(baz)\n",
    "baz_repr = repr(baz)\n",
    "\n",
    "print(\"foo_str: \", foo_str)\n",
    "print(\"foo_repr: \", foo_repr)\n",
    "\n",
    "print(\"bar_str: \", bar_str)\n",
    "print(\"bar_repr: \", bar_repr)\n",
    "\n",
    "print(\"baz_str: \", baz_str)\n",
    "print(\"baz_repr: \", baz_repr)"
   ]
  },
  {
   "cell_type": "code",
   "execution_count": 42,
   "metadata": {},
   "outputs": [
    {
     "name": "stdout",
     "output_type": "stream",
     "text": [
      "str(date):  2024-03-10 18:40:02\n",
      "repr(date): datetime.datetime(2024, 3, 10, 18, 40, 2)\n",
      "date:       2024-03-10 18:40:02\n"
     ]
    }
   ],
   "source": [
    "# Сравнение результатов работы функций\n",
    "# str() и repr() для более сложных объектов\n",
    "\n",
    "import datetime\n",
    "\n",
    "date = datetime.datetime(2024, 3, 10, 18, 40, 2)\n",
    "\n",
    "print(\"str(date): \", str(date))\n",
    "print(\"repr(date):\", repr(date))\n",
    "print(\"date:      \", date)\n"
   ]
  },
  {
   "cell_type": "code",
   "execution_count": 43,
   "metadata": {},
   "outputs": [
    {
     "name": "stdout",
     "output_type": "stream",
     "text": [
      "len(foo):  5\n",
      "len(bar):  6\n",
      "len(spam): 2\n",
      "len(baz):  1\n"
     ]
    }
   ],
   "source": [
    "# Получение длины строки\n",
    "\n",
    "foo = \"Hello\"\n",
    "bar = \"Привет\"\n",
    "spam = \"你好\"\n",
    "baz = \"\\U0001f923\"\n",
    "\n",
    "print(\"len(foo): \", len(foo))\n",
    "print(\"len(bar): \", len(bar))\n",
    "print(\"len(spam):\", len(spam))\n",
    "print(\"len(baz): \", len(baz))"
   ]
  },
  {
   "cell_type": "code",
   "execution_count": 44,
   "metadata": {},
   "outputs": [
    {
     "name": "stdout",
     "output_type": "stream",
     "text": [
      "foo in spam:     True\n",
      "bar not in spam: True\n"
     ]
    }
   ],
   "source": [
    "# Использование операторов in / not in\n",
    "\n",
    "spam = \"Lorem ipsum dolor sit amet, consectetur adipiscing elit\"\n",
    "foo = \"ipsum\"\n",
    "bar = \"hello\"\n",
    "\n",
    "print(\"foo in spam:    \", foo in spam)\n",
    "print(\"bar not in spam:\", bar not in spam)"
   ]
  },
  {
   "cell_type": "code",
   "execution_count": 45,
   "metadata": {},
   "outputs": [
    {
     "name": "stdout",
     "output_type": "stream",
     "text": [
      "foo[0]:  П\n",
      "foo[3]:  в\n",
      "foo[-1]: 🤣\n"
     ]
    }
   ],
   "source": [
    "# Получение символов по индексу\n",
    "foo = \"Привет \\U0001f923\"\n",
    "\n",
    "print(\"foo[0]: \", foo[0])\n",
    "print(\"foo[3]: \", foo[3])\n",
    "print(\"foo[-1]:\", foo[-1])"
   ]
  },
  {
   "cell_type": "code",
   "execution_count": 46,
   "metadata": {},
   "outputs": [],
   "source": [
    "# Строка - неизменяемый объект\n",
    "foo = \"Привет\"\n",
    "\n",
    "# Ошибка!\n",
    "# foo[0] = \"X\""
   ]
  },
  {
   "cell_type": "code",
   "execution_count": 47,
   "metadata": {},
   "outputs": [
    {
     "name": "stdout",
     "output_type": "stream",
     "text": [
      "spam[2:10]:    rem ipsu\n",
      "spam[2:14:2]:  rmismd\n",
      "spam[9:1:-1]:  uspi mer\n",
      "spam[:5]:      Lorem\n",
      "spam[-4:]:     elit\n",
      "spam[:]:       Lorem ipsum dolor sit amet, consectetur adipiscing elit\n",
      "spam[::-1]:    tile gnicsipida rutetcesnoc ,tema tis rolod muspi meroL\n"
     ]
    }
   ],
   "source": [
    "# Получение подстроки\n",
    "spam = \"Lorem ipsum dolor sit amet, consectetur adipiscing elit\"\n",
    "\n",
    "print(\"spam[2:10]:   \", spam[2:10])\n",
    "print(\"spam[2:14:2]: \", spam[2:14:2])\n",
    "print(\"spam[9:1:-1]: \", spam[9:1:-1])\n",
    "print(\"spam[:5]:     \", spam[:5])\n",
    "print(\"spam[-4:]:    \", spam[-4:])\n",
    "print(\"spam[:]:      \", spam[:])\n",
    "print(\"spam[::-1]:   \", spam[::-1])"
   ]
  },
  {
   "cell_type": "code",
   "execution_count": 48,
   "metadata": {},
   "outputs": [
    {
     "name": "stdout",
     "output_type": "stream",
     "text": [
      "['__add__', '__class__', '__contains__', '__delattr__', '__dir__', '__doc__', '__eq__', '__format__', '__ge__', '__getattribute__', '__getitem__', '__getnewargs__', '__getstate__', '__gt__', '__hash__', '__init__', '__init_subclass__', '__iter__', '__le__', '__len__', '__lt__', '__mod__', '__mul__', '__ne__', '__new__', '__reduce__', '__reduce_ex__', '__repr__', '__rmod__', '__rmul__', '__setattr__', '__sizeof__', '__str__', '__subclasshook__', 'capitalize', 'casefold', 'center', 'count', 'encode', 'endswith', 'expandtabs', 'find', 'format', 'format_map', 'index', 'isalnum', 'isalpha', 'isascii', 'isdecimal', 'isdigit', 'isidentifier', 'islower', 'isnumeric', 'isprintable', 'isspace', 'istitle', 'isupper', 'join', 'ljust', 'lower', 'lstrip', 'maketrans', 'partition', 'removeprefix', 'removesuffix', 'replace', 'rfind', 'rindex', 'rjust', 'rpartition', 'rsplit', 'rstrip', 'split', 'splitlines', 'startswith', 'strip', 'swapcase', 'title', 'translate', 'upper', 'zfill']\n"
     ]
    }
   ],
   "source": [
    "print(dir(str))"
   ]
  },
  {
   "cell_type": "code",
   "execution_count": 49,
   "metadata": {},
   "outputs": [
    {
     "name": "stdout",
     "output_type": "stream",
     "text": [
      "foo.startswith('images'): True\n",
      "bar.startswith('images'): False\n",
      "foo.endswith('.png'):     True\n",
      "bar.endswith('.png'):     False\n"
     ]
    }
   ],
   "source": [
    "# Использование методов startswith() / endswith()\n",
    "\n",
    "foo = \"images/picture.png\"\n",
    "bar = \"data/application.exe\"\n",
    "\n",
    "print(\"foo.startswith('images'):\", foo.startswith('images'))\n",
    "print(\"bar.startswith('images'):\", bar.startswith('images'))\n",
    "print(\"foo.endswith('.png'):    \", foo.endswith('.png'))\n",
    "print(\"bar.endswith('.png'):    \", bar.endswith('.png'))"
   ]
  },
  {
   "cell_type": "code",
   "execution_count": 50,
   "metadata": {},
   "outputs": [
    {
     "name": "stdout",
     "output_type": "stream",
     "text": [
      "foo.find('ipsum'):         6\n",
      "foo.find('Ipsum'):         -1\n",
      "foo.find('ipsum', 7):      34\n",
      "foo.find('ipsum', 35, 60): -1\n"
     ]
    }
   ],
   "source": [
    "# Использование метода find()\n",
    "\n",
    "foo = \"Lorem ipsum dolor sit amet, Lorem ipsum dolor sit amet, Lorem ipsum dolor sit amet\"\n",
    "\n",
    "print(\"foo.find('ipsum'):        \", foo.find('ipsum'))\n",
    "print(\"foo.find('Ipsum'):        \", foo.find('Ipsum'))\n",
    "print(\"foo.find('ipsum', 7):     \", foo.find('ipsum', 7))\n",
    "print(\"foo.find('ipsum', 35, 60):\", foo.find('ipsum', 35, 60))"
   ]
  },
  {
   "cell_type": "code",
   "execution_count": 51,
   "metadata": {},
   "outputs": [
    {
     "name": "stdout",
     "output_type": "stream",
     "text": [
      "result: [6, 34, 62]\n"
     ]
    }
   ],
   "source": [
    "# Нахождение всех позиций заданной подстроки\n",
    "\n",
    "foo = \"Lorem ipsum dolor sit amet, Lorem ipsum dolor sit amet, Lorem ipsum dolor sit amet\"\n",
    "sub = \"ipsum\"\n",
    "\n",
    "result = []\n",
    "pos = 0\n",
    "\n",
    "while pos != -1:\n",
    "    pos = foo.find(sub, pos)\n",
    "    if pos != -1:\n",
    "        result.append(pos)\n",
    "        pos += 1\n",
    "        \n",
    "print(\"result:\", result)"
   ]
  },
  {
   "cell_type": "code",
   "execution_count": 52,
   "metadata": {},
   "outputs": [
    {
     "name": "stdout",
     "output_type": "stream",
     "text": [
      "result: [6, 34, 62]\n"
     ]
    }
   ],
   "source": [
    "# Нахождение всех позиций заданной подстроки\n",
    "# Использование оператора :=\n",
    "\n",
    "foo = \"Lorem ipsum dolor sit amet, Lorem ipsum dolor sit amet, Lorem ipsum dolor sit amet\"\n",
    "sub = \"ipsum\"\n",
    "\n",
    "result = []\n",
    "pos = 0\n",
    "\n",
    "while (pos := foo.find(sub, pos)) != -1:\n",
    "    result.append(pos)\n",
    "    pos += 1\n",
    "    \n",
    "print(\"result:\", result)"
   ]
  },
  {
   "cell_type": "code",
   "execution_count": 53,
   "metadata": {},
   "outputs": [
    {
     "name": "stdout",
     "output_type": "stream",
     "text": [
      "42 42\n"
     ]
    }
   ],
   "source": [
    "# Ошибка!\n",
    "# a = (b = 42)\n",
    "\n",
    "a = (b := 42)\n",
    "\n",
    "print(a, b)"
   ]
  },
  {
   "cell_type": "code",
   "execution_count": 54,
   "metadata": {},
   "outputs": [
    {
     "name": "stdout",
     "output_type": "stream",
     "text": [
      "foo:        lorem IPSUM dolor SIT amet\n",
      "foo_lower:  lorem ipsum dolor sit amet\n",
      "foo_upper:  LOREM IPSUM DOLOR SIT AMET\n",
      "foo_cap:    Lorem ipsum dolor sit amet\n"
     ]
    }
   ],
   "source": [
    "# Использование методов lower() / upper() / capitalize()\n",
    "\n",
    "foo = \"lorem IPSUM dolor SIT amet\"\n",
    "\n",
    "foo_lower = foo.lower()\n",
    "foo_upper = foo.upper()\n",
    "foo_cap = foo.capitalize()\n",
    "\n",
    "print(\"foo:       \", foo)\n",
    "print(\"foo_lower: \", foo_lower)\n",
    "print(\"foo_upper: \", foo_upper)\n",
    "print(\"foo_cap:   \", foo_cap)"
   ]
  },
  {
   "cell_type": "code",
   "execution_count": 55,
   "metadata": {},
   "outputs": [
    {
     "name": "stdout",
     "output_type": "stream",
     "text": [
      "foo:        |    Lorem ipsum    |\n",
      "foo_strip:  |Lorem ipsum|\n",
      "foo_lstrip: |Lorem ipsum    |\n",
      "foo_rstrip: |    Lorem ipsum|\n"
     ]
    }
   ],
   "source": [
    "# Использование методов strip() / lstrip() / rstrip()\n",
    "\n",
    "foo = \"    Lorem ipsum    \"\n",
    "\n",
    "foo_strip = foo.strip()\n",
    "foo_lstrip = foo.lstrip()\n",
    "foo_rstrip = foo.rstrip()\n",
    "\n",
    "print(\"foo:        |\", foo, \"|\", sep=\"\")\n",
    "print(\"foo_strip:  |\", foo_strip, \"|\", sep=\"\")\n",
    "print(\"foo_lstrip: |\", foo_lstrip, \"|\", sep=\"\")\n",
    "print(\"foo_rstrip: |\", foo_rstrip, \"|\", sep=\"\")"
   ]
  },
  {
   "cell_type": "code",
   "execution_count": 56,
   "metadata": {},
   "outputs": [
    {
     "name": "stdout",
     "output_type": "stream",
     "text": [
      "foo:                         images/picture.png\n",
      "bar:                         data/application.exe\n",
      "\n",
      "foo.removeprefix('images/'): picture.png\n",
      "foo.removesuffix('.png'):    images/picture\n",
      "\n",
      "bar.removeprefix('images/'): data/application.exe\n",
      "bar.removesuffix('.png'):    data/application.exe\n"
     ]
    }
   ],
   "source": [
    "# Использование методов removeprefix() / removesuffix()\n",
    "\n",
    "foo = \"images/picture.png\"\n",
    "bar = \"data/application.exe\"\n",
    "\n",
    "print(\"foo:                        \", foo)\n",
    "print(\"bar:                        \", bar)\n",
    "print()\n",
    "print(\"foo.removeprefix('images/'):\",foo.removeprefix('images/'))\n",
    "print(\"foo.removesuffix('.png'):   \", foo.removesuffix('.png'))\n",
    "print()\n",
    "print(\"bar.removeprefix('images/'):\", bar.removeprefix('images/'))\n",
    "print(\"bar.removesuffix('.png'):   \", bar.removesuffix('.png'))"
   ]
  },
  {
   "cell_type": "code",
   "execution_count": 57,
   "metadata": {},
   "outputs": [
    {
     "name": "stdout",
     "output_type": "stream",
     "text": [
      "foo:  Lorem ipsum dolor sit amet, Lorem ipsum dolor sit amet, Lorem ipsum dolor sit amet\n",
      "bar:  Lorem ***** dolor sit amet, Lorem ***** dolor sit amet, Lorem ***** dolor sit amet\n",
      "baz:  Lorem ***** dolor sit amet, Lorem ipsum dolor sit amet, Lorem ipsum dolor sit amet\n"
     ]
    }
   ],
   "source": [
    "# Использование метода replace()\n",
    "\n",
    "foo = \"Lorem ipsum dolor sit amet, Lorem ipsum dolor sit amet, Lorem ipsum dolor sit amet\"\n",
    "old = \"ipsum\"\n",
    "new = \"*****\"\n",
    "\n",
    "bar = foo.replace(old, new)\n",
    "baz = foo.replace(old, new, 1)\n",
    "\n",
    "print(\"foo: \", foo)\n",
    "print(\"bar: \", bar)\n",
    "print(\"baz: \", baz)"
   ]
  },
  {
   "cell_type": "code",
   "execution_count": 58,
   "metadata": {},
   "outputs": [
    {
     "name": "stdout",
     "output_type": "stream",
     "text": [
      "bar: ['a=10', 'b=20', 'c=30']\n"
     ]
    }
   ],
   "source": [
    "# Использование метода split()\n",
    "\n",
    "foo = \"a=10, b=20, c=30\"\n",
    "bar = foo.split(\", \")\n",
    "\n",
    "print(\"bar:\", bar)"
   ]
  },
  {
   "cell_type": "code",
   "execution_count": 59,
   "metadata": {},
   "outputs": [
    {
     "name": "stdout",
     "output_type": "stream",
     "text": [
      "foo: a=10, b=20, c=30\n"
     ]
    }
   ],
   "source": [
    "# Использование метода join()\n",
    "\n",
    "bar = [\"a=10\", \"b=20\", \"c=30\"]\n",
    "foo = \", \".join(bar)\n",
    "\n",
    "print(\"foo:\", foo)"
   ]
  },
  {
   "cell_type": "markdown",
   "metadata": {},
   "source": [
    "## printf-стиль форматирования строк"
   ]
  },
  {
   "cell_type": "code",
   "execution_count": 1,
   "metadata": {},
   "outputs": [
    {
     "name": "stdout",
     "output_type": "stream",
     "text": [
      "spam: f = 42; b = 12.5; e = hello.\n"
     ]
    }
   ],
   "source": [
    "# Плохой способ форматирования строк\n",
    "foo = 42\n",
    "bar = 12.5\n",
    "eggs = \"hello\"\n",
    "\n",
    "spam = \"f = \" + str(foo) + \"; b = \" + str(bar) + \"; e = \" + str(eggs) + \".\"\n",
    "print(\"spam:\", spam)"
   ]
  },
  {
   "cell_type": "code",
   "execution_count": 66,
   "metadata": {},
   "outputs": [
    {
     "name": "stdout",
     "output_type": "stream",
     "text": [
      "spam: f = 42; b = 12.500000; e = hello.\n"
     ]
    }
   ],
   "source": [
    "# Использование оператора \"%\" для форматирования строк\n",
    "\n",
    "foo = 42\n",
    "bar = 12.5\n",
    "eggs = \"hello\"\n",
    "\n",
    "spam = \"f = %d; b = %f; e = %s.\" % (foo, bar, eggs)\n",
    "print(\"spam:\", spam)"
   ]
  },
  {
   "cell_type": "code",
   "execution_count": 76,
   "metadata": {},
   "outputs": [
    {
     "name": "stdout",
     "output_type": "stream",
     "text": [
      "%d: 42\n",
      "%o: 52\n",
      "%x: 2a\n",
      "%f: 42.000000\n",
      "%e: 4.200000e+01\n",
      "%g: 42\n",
      "\n"
     ]
    }
   ],
   "source": [
    "# Различные представления целых чисел\n",
    "foo = 42\n",
    "\n",
    "spam = \"\"\"%%d: %d\n",
    "%%o: %o\n",
    "%%x: %x\n",
    "%%f: %f\n",
    "%%e: %e\n",
    "%%g: %g\n",
    "\"\"\" % (foo, foo, foo, foo, foo, foo)\n",
    "\n",
    "print(spam)"
   ]
  },
  {
   "cell_type": "code",
   "execution_count": 105,
   "metadata": {},
   "outputs": [
    {
     "name": "stdout",
     "output_type": "stream",
     "text": [
      "|%14f| :     |     42.500000|\n",
      "|%-14f|:     |42.500000     |\n",
      "|%14.3f|:    |        42.500|\n",
      "|%-14.3f|:   |42.500        |\n",
      "|%+-14.3f|:  |+42.500       |\n",
      "|% -14.3f|:  | 42.500       |\n",
      "|%014.3f|:   |0000000042.500|\n",
      "\n"
     ]
    }
   ],
   "source": [
    "# Использование дополнительных параметров форматирования\n",
    "foo = 42.5\n",
    "\n",
    "spam = \"\"\"|%%14f| :     |%14f|\n",
    "|%%-14f|:     |%-14f|\n",
    "|%%14.3f|:    |%14.3f|\n",
    "|%%-14.3f|:   |%-14.3f|\n",
    "|%%+-14.3f|:  |%+-14.3f|\n",
    "|%% -14.3f|:  |% -14.3f|\n",
    "|%%014.3f|:   |%014.3f|\n",
    "\"\"\" % ((foo,) * 7)\n",
    "\n",
    "print(spam)"
   ]
  },
  {
   "cell_type": "code",
   "execution_count": 109,
   "metadata": {},
   "outputs": [
    {
     "name": "stdout",
     "output_type": "stream",
     "text": [
      "spam: f = 42; b = 12.500000; e = hello.\n"
     ]
    }
   ],
   "source": [
    "# Использование именованных параметров\n",
    "\n",
    "foo = 42\n",
    "bar = 12.5\n",
    "eggs = \"hello\"\n",
    "\n",
    "spam = (\"f = %(f)d; b = %(b)f; e = %(e)s.\" \n",
    "        % {\"e\": eggs, \"f\": foo, \"b\": bar})\n",
    "print(\"spam:\", spam)"
   ]
  },
  {
   "cell_type": "markdown",
   "metadata": {},
   "source": [
    "## Использование str.format()"
   ]
  },
  {
   "cell_type": "code",
   "execution_count": null,
   "metadata": {},
   "outputs": [],
   "source": []
  }
 ],
 "metadata": {
  "kernelspec": {
   "display_name": "Python 3",
   "language": "python",
   "name": "python3"
  },
  "language_info": {
   "codemirror_mode": {
    "name": "ipython",
    "version": 3
   },
   "file_extension": ".py",
   "mimetype": "text/x-python",
   "name": "python",
   "nbconvert_exporter": "python",
   "pygments_lexer": "ipython3",
   "version": "3.11.8"
  }
 },
 "nbformat": 4,
 "nbformat_minor": 2
}
