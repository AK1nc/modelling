{
 "cells": [
  {
   "cell_type": "markdown",
   "metadata": {},
   "source": [
    "## Объявление функций"
   ]
  },
  {
   "cell_type": "code",
   "execution_count": 15,
   "metadata": {},
   "outputs": [],
   "source": [
    "def add(a, b):\n",
    "    c = a + b\n",
    "    return c\n",
    "\n",
    "def hello(name):\n",
    "    print(f\"Hello, {name}\")\n",
    "\n",
    "def hello_world():\n",
    "    print(\"Hello, world!\")\n",
    "\n",
    "def add_sub(a, b):\n",
    "    s = a + b\n",
    "    d = a - b\n",
    "    return (s, d)"
   ]
  },
  {
   "cell_type": "code",
   "execution_count": 16,
   "metadata": {},
   "outputs": [
    {
     "name": "stdout",
     "output_type": "stream",
     "text": [
      "foo=30\n",
      "bar=(23.5+2j)\n",
      "baz='hello world'\n",
      "spam=[10, 20, 30, 'hello', 'world']\n"
     ]
    }
   ],
   "source": [
    "# Демонстрация \"утиной\" типизации\n",
    "def add(a, b):\n",
    "    return a + b\n",
    "\n",
    "foo = add(10, 20)\n",
    "bar = add(3+2j, 20.5)\n",
    "baz = add(\"hello \", \"world\")\n",
    "spam = add([10, 20, 30], [\"hello\", \"world\"])\n",
    "\n",
    "print(f\"{foo=}\\n{bar=}\\n{baz=}\\n{spam=}\")"
   ]
  },
  {
   "cell_type": "code",
   "execution_count": 17,
   "metadata": {},
   "outputs": [],
   "source": [
    "# Демонстрация \"утиной\" типизации\n",
    "def add(a, b):\n",
    "    return a + b\n",
    "\n",
    "# Ошибка!\n",
    "# foo = add(10, \"hello\")"
   ]
  },
  {
   "cell_type": "code",
   "execution_count": 18,
   "metadata": {},
   "outputs": [],
   "source": [
    "# Демонстрация ошибок работы с функциями\n",
    "def add(a, b):\n",
    "    return a + b\n",
    "\n",
    "# Ошибка! Не указан обязательный параметр\n",
    "# foo = add(10)"
   ]
  },
  {
   "cell_type": "code",
   "execution_count": 19,
   "metadata": {},
   "outputs": [],
   "source": [
    "# Демонстрация ошибок работы с функциями\n",
    "def add(a, b):\n",
    "    return a + b\n",
    "\n",
    "# Ошибка! Передается лишний параметр\n",
    "# foo = add(10, 20, 30)"
   ]
  },
  {
   "cell_type": "code",
   "execution_count": 20,
   "metadata": {},
   "outputs": [
    {
     "name": "stdout",
     "output_type": "stream",
     "text": [
      "foo=20\n",
      "bar=20\n",
      "baz=20\n",
      "spam=20\n"
     ]
    }
   ],
   "source": [
    "# Использование именованных параметров\n",
    "def sub(a, b):\n",
    "    return a - b\n",
    "\n",
    "foo = sub(30, 10)\n",
    "bar = sub(a=30, b=10)\n",
    "baz = sub(b=10, a=30)\n",
    "spam = sub(30, b=10)\n",
    "\n",
    "# Ошибка!\n",
    "# eggs = sub(a=30, 10)\n",
    "\n",
    "print(f\"{foo=}\\n{bar=}\\n{baz=}\\n{spam=}\")"
   ]
  },
  {
   "cell_type": "code",
   "execution_count": null,
   "metadata": {},
   "outputs": [],
   "source": [
    "# Параметры по умолчанию"
   ]
  }
 ],
 "metadata": {
  "kernelspec": {
   "display_name": "Python 3",
   "language": "python",
   "name": "python3"
  },
  "language_info": {
   "codemirror_mode": {
    "name": "ipython",
    "version": 3
   },
   "file_extension": ".py",
   "mimetype": "text/x-python",
   "name": "python",
   "nbconvert_exporter": "python",
   "pygments_lexer": "ipython3",
   "version": "3.11.4"
  }
 },
 "nbformat": 4,
 "nbformat_minor": 2
}
