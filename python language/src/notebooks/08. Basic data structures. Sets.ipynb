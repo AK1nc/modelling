{
 "cells": [
  {
   "cell_type": "markdown",
   "metadata": {},
   "source": [
    "## Создание множеств"
   ]
  },
  {
   "cell_type": "code",
   "execution_count": 71,
   "metadata": {},
   "outputs": [
    {
     "name": "stdout",
     "output_type": "stream",
     "text": [
      "type(foo): <class 'set'>\n",
      "foo: set()\n",
      "bar: set()\n"
     ]
    }
   ],
   "source": [
    "# Создание пустого множества\n",
    "foo = set()\n",
    "bar = set([])\n",
    "\n",
    "print(\"type(foo):\", type(foo))\n",
    "print(\"foo:\", foo)\n",
    "print(\"bar:\", bar)"
   ]
  },
  {
   "cell_type": "code",
   "execution_count": 72,
   "metadata": {},
   "outputs": [
    {
     "name": "stdout",
     "output_type": "stream",
     "text": [
      "foo: {10, 100, 20, 30}\n",
      "bar: {'c', 'r', 'a', 'd', 'b'}\n",
      "spam: {42, 3.14, 100, 'hello'}\n"
     ]
    }
   ],
   "source": [
    "# Создание множеств на основе итерируемых объектов\n",
    "foo = set([100, 10, 20, 30, 30, 10])\n",
    "print(\"foo:\", foo)\n",
    "\n",
    "bar = set(\"abracadabra\")\n",
    "print(\"bar:\", bar)\n",
    "\n",
    "spam = set([100, \"hello\", 42, 3.14])\n",
    "print(\"spam:\", spam)"
   ]
  },
  {
   "cell_type": "code",
   "execution_count": 73,
   "metadata": {},
   "outputs": [
    {
     "name": "stdout",
     "output_type": "stream",
     "text": [
      "type(foo):  <class 'set'>\n",
      "foo:        {10, 100, 20, 30}\n",
      "\n",
      "type(bar):  <class 'set'>\n",
      "bar:        {21, 11, 101, 31}\n",
      "\n",
      "type(spam):  <class 'dict'>\n"
     ]
    }
   ],
   "source": [
    "# Создание множеств с использованием фигурных скобок\n",
    "foo = {100, 10, 20, 30, 30, 10}\n",
    "print(\"type(foo): \", type(foo))\n",
    "print(\"foo:       \", foo)\n",
    "print()\n",
    "\n",
    "bar = {item + 1 for item in [100, 10, 20, 30, 30, 10]}\n",
    "print(\"type(bar): \", type(bar))\n",
    "print(\"bar:       \", bar)\n",
    "print()\n",
    "\n",
    "# !!! Следующая строка создаст словарь\n",
    "spam = {}\n",
    "print(\"type(spam): \", type(spam))"
   ]
  },
  {
   "cell_type": "code",
   "execution_count": 74,
   "metadata": {},
   "outputs": [],
   "source": [
    "# Не все типы могут входить в множество\n",
    "\n",
    "# Ошибка!\n",
    "# foo = {1, 2, [100, 200]}"
   ]
  },
  {
   "cell_type": "markdown",
   "metadata": {},
   "source": [
    "## Операции со множествами"
   ]
  },
  {
   "cell_type": "code",
   "execution_count": 75,
   "metadata": {},
   "outputs": [
    {
     "name": "stdout",
     "output_type": "stream",
     "text": [
      "10\n",
      "100\n",
      "20\n",
      "30\n"
     ]
    }
   ],
   "source": [
    "# Перебор иэлементов множества\n",
    "foo = {100, 10, 20, 30, 30, 10}\n",
    "\n",
    "for item in foo:\n",
    "    print(item)"
   ]
  },
  {
   "cell_type": "code",
   "execution_count": 76,
   "metadata": {},
   "outputs": [
    {
     "name": "stdout",
     "output_type": "stream",
     "text": [
      "10 in foo: True\n",
      "20 not in foo: False\n"
     ]
    }
   ],
   "source": [
    "# Определение приандлежности элемента множеству\n",
    "foo = {100, 10, 20, 30, 30, 10}\n",
    "\n",
    "print(\"10 in foo:\", 10 in foo)\n",
    "print(\"20 not in foo:\", 20 not in foo)"
   ]
  },
  {
   "cell_type": "code",
   "execution_count": 77,
   "metadata": {},
   "outputs": [
    {
     "name": "stdout",
     "output_type": "stream",
     "text": [
      "foo: {10, 100, 20, 30}\n",
      "len(foo): 4\n"
     ]
    }
   ],
   "source": [
    "# Определение количества элементов множества\n",
    "foo = {100, 10, 20, 30, 30, 10}\n",
    "\n",
    "print(\"foo:\", foo)\n",
    "print(\"len(foo):\", len(foo))"
   ]
  },
  {
   "cell_type": "code",
   "execution_count": 78,
   "metadata": {},
   "outputs": [
    {
     "name": "stdout",
     "output_type": "stream",
     "text": [
      "foo: {0, 100, 10, 20, 30}\n"
     ]
    }
   ],
   "source": [
    "# Добавление элемента в множетсво\n",
    "foo = {100, 10, 20, 30, 30, 10}\n",
    "\n",
    "foo.add(0)\n",
    "print(\"foo:\", foo)"
   ]
  },
  {
   "cell_type": "code",
   "execution_count": 79,
   "metadata": {},
   "outputs": [
    {
     "name": "stdout",
     "output_type": "stream",
     "text": [
      "1) foo: {10, 20, 30}\n",
      "2) foo: {40, 10, 20, 30}\n",
      "3) foo: {50, 20, 40, 10, 60, 30}\n"
     ]
    }
   ],
   "source": [
    "# Добавление элементов из других объектов\n",
    "foo = {10, 20, 30}\n",
    "bar = [10, 30, 40]\n",
    "spam = {40, 50, 60}\n",
    "\n",
    "print(\"1) foo:\", foo)\n",
    "\n",
    "foo.update(bar)\n",
    "print(\"2) foo:\", foo)\n",
    "\n",
    "foo.update(spam)\n",
    "print(\"3) foo:\", foo)"
   ]
  },
  {
   "cell_type": "code",
   "execution_count": 80,
   "metadata": {},
   "outputs": [
    {
     "name": "stdout",
     "output_type": "stream",
     "text": [
      "1) foo: {10, 20, 30}\n",
      "2) foo: {50, 20, 40, 10, 60, 30}\n"
     ]
    }
   ],
   "source": [
    "# Добавление элементов из других объектов\n",
    "foo = {10, 20, 30}\n",
    "bar = [10, 30, 40]\n",
    "spam = {40, 50, 60}\n",
    "\n",
    "print(\"1) foo:\", foo)\n",
    "\n",
    "foo.update(bar, spam)\n",
    "print(\"2) foo:\", foo)"
   ]
  },
  {
   "cell_type": "code",
   "execution_count": 81,
   "metadata": {},
   "outputs": [
    {
     "name": "stdout",
     "output_type": "stream",
     "text": [
      "spam: {20, 40, 10, 30}\n"
     ]
    }
   ],
   "source": [
    "# Добавление элементов из других объектов\n",
    "foo = {10, 20, 30}\n",
    "bar = {10, 30, 40}\n",
    "\n",
    "spam = foo | bar\n",
    "print(\"spam:\", spam)\n"
   ]
  },
  {
   "cell_type": "code",
   "execution_count": 82,
   "metadata": {},
   "outputs": [
    {
     "name": "stdout",
     "output_type": "stream",
     "text": [
      "foo: {20, 40, 10, 30}\n"
     ]
    }
   ],
   "source": [
    "# Добавление элементов из других объектов\n",
    "foo = {10, 20, 30}\n",
    "bar = {10, 30, 40}\n",
    "\n",
    "foo |= bar\n",
    "print(\"foo:\", foo)"
   ]
  },
  {
   "cell_type": "code",
   "execution_count": 83,
   "metadata": {},
   "outputs": [
    {
     "name": "stdout",
     "output_type": "stream",
     "text": [
      "foo: {10, 20, 30}\n"
     ]
    }
   ],
   "source": [
    "# Удаление элемента из множества\n",
    "foo = {100, 10, 20, 30, 30, 10}\n",
    "\n",
    "foo.remove(100)\n",
    "print(\"foo:\", foo)"
   ]
  },
  {
   "cell_type": "code",
   "execution_count": 84,
   "metadata": {},
   "outputs": [],
   "source": [
    "# Попытка удалить несуществующий элемент\n",
    "foo = {100, 10, 20, 30, 30, 10}\n",
    "\n",
    "# Ошибка!\n",
    "# foo.remove(0)"
   ]
  },
  {
   "cell_type": "code",
   "execution_count": 85,
   "metadata": {},
   "outputs": [
    {
     "name": "stdout",
     "output_type": "stream",
     "text": [
      "1) foo: {10, 20, 30}\n",
      "2) foo: {10, 20, 30}\n"
     ]
    }
   ],
   "source": [
    "# Удаление элемента из множества с проверкой наличия элемента\n",
    "foo = {100, 10, 20, 30, 30, 10}\n",
    "\n",
    "foo.discard(100)\n",
    "print(\"1) foo:\", foo)\n",
    "\n",
    "foo.discard(0)\n",
    "print(\"2) foo:\", foo)"
   ]
  },
  {
   "cell_type": "code",
   "execution_count": 86,
   "metadata": {},
   "outputs": [
    {
     "name": "stdout",
     "output_type": "stream",
     "text": [
      "foo: set()\n"
     ]
    }
   ],
   "source": [
    "# Удаление всех элементов из множества\n",
    "foo = {100, 10, 20, 30, 30, 10}\n",
    "\n",
    "foo.clear()\n",
    "print(\"foo:\", foo)"
   ]
  },
  {
   "cell_type": "code",
   "execution_count": 87,
   "metadata": {},
   "outputs": [
    {
     "name": "stdout",
     "output_type": "stream",
     "text": [
      "spam: {20}\n"
     ]
    }
   ],
   "source": [
    "# Получение разности множеств\n",
    "foo = {10, 20, 30}\n",
    "bar = {10, 30, 40}\n",
    "\n",
    "spam = foo - bar\n",
    "print(\"spam:\", spam)"
   ]
  },
  {
   "cell_type": "code",
   "execution_count": 88,
   "metadata": {},
   "outputs": [
    {
     "name": "stdout",
     "output_type": "stream",
     "text": [
      "foo: {20}\n"
     ]
    }
   ],
   "source": [
    "# Получение разности множеств\n",
    "foo = {10, 20, 30}\n",
    "bar = {10, 30, 40}\n",
    "\n",
    "foo -= bar\n",
    "print(\"foo:\", foo)"
   ]
  },
  {
   "cell_type": "code",
   "execution_count": 89,
   "metadata": {},
   "outputs": [
    {
     "name": "stdout",
     "output_type": "stream",
     "text": [
      "spam: {10, 30}\n"
     ]
    }
   ],
   "source": [
    "# Нахождение пересечения множеств\n",
    "foo = {10, 20, 30}\n",
    "bar = {10, 30, 40}\n",
    "\n",
    "spam = foo & bar\n",
    "print(\"spam:\", spam)"
   ]
  },
  {
   "cell_type": "code",
   "execution_count": 90,
   "metadata": {},
   "outputs": [
    {
     "name": "stdout",
     "output_type": "stream",
     "text": [
      "foo: {10, 30}\n"
     ]
    }
   ],
   "source": [
    "# Нахождение пересечения множеств\n",
    "foo = {10, 20, 30}\n",
    "bar = {10, 30, 40}\n",
    "\n",
    "foo &= bar\n",
    "print(\"foo:\", foo)"
   ]
  },
  {
   "cell_type": "code",
   "execution_count": 91,
   "metadata": {},
   "outputs": [
    {
     "name": "stdout",
     "output_type": "stream",
     "text": [
      "spam: {40, 20}\n"
     ]
    }
   ],
   "source": [
    "# Получение симметричной разности множеств\n",
    "foo = {10, 20, 30}\n",
    "bar = {10, 30, 40}\n",
    "\n",
    "spam = foo ^ bar\n",
    "print(\"spam:\", spam)"
   ]
  },
  {
   "cell_type": "code",
   "execution_count": 92,
   "metadata": {},
   "outputs": [
    {
     "name": "stdout",
     "output_type": "stream",
     "text": [
      "foo: {40, 20}\n"
     ]
    }
   ],
   "source": [
    "# Получение симметричной разности множеств\n",
    "foo = {10, 20, 30}\n",
    "bar = {10, 30, 40}\n",
    "\n",
    "foo ^= bar\n",
    "print(\"foo:\", foo)"
   ]
  },
  {
   "cell_type": "code",
   "execution_count": 93,
   "metadata": {},
   "outputs": [
    {
     "name": "stdout",
     "output_type": "stream",
     "text": [
      "foo > bar:    False\n",
      "foo >= bar:   False\n",
      "foo < bar:    False\n",
      "foo <= bar:   False\n",
      "foo == bar:   False\n",
      "\n",
      "foo >= spam:  True\n",
      "\n",
      "foo > eggs:   False\n",
      "foo >= eggs:  True\n",
      "foo == eggs:  True\n",
      "foo is eggs:  False\n"
     ]
    }
   ],
   "source": [
    "# Сравнение множеств\n",
    "foo = {10, 20, 30}\n",
    "bar = {10, 30, 40}\n",
    "spam = {30, 10}\n",
    "eggs = {30, 20, 10}\n",
    "\n",
    "print(\"foo > bar:   \", foo > bar)\n",
    "print(\"foo >= bar:  \", foo >= bar)\n",
    "print(\"foo < bar:   \", foo < bar)\n",
    "print(\"foo <= bar:  \", foo < bar)\n",
    "print(\"foo == bar:  \", foo == bar)\n",
    "\n",
    "print()\n",
    "print(\"foo >= spam: \", foo >= spam)\n",
    "\n",
    "print()\n",
    "print(\"foo > eggs:  \", foo > eggs)\n",
    "print(\"foo >= eggs: \", foo >= eggs)\n",
    "print(\"foo == eggs: \", foo == eggs)\n",
    "print(\"foo is eggs: \", foo is eggs)"
   ]
  },
  {
   "cell_type": "code",
   "execution_count": null,
   "metadata": {},
   "outputs": [],
   "source": []
  }
 ],
 "metadata": {
  "kernelspec": {
   "display_name": "Python 3",
   "language": "python",
   "name": "python3"
  },
  "language_info": {
   "codemirror_mode": {
    "name": "ipython",
    "version": 3
   },
   "file_extension": ".py",
   "mimetype": "text/x-python",
   "name": "python",
   "nbconvert_exporter": "python",
   "pygments_lexer": "ipython3",
   "version": "3.11.7"
  }
 },
 "nbformat": 4,
 "nbformat_minor": 2
}
