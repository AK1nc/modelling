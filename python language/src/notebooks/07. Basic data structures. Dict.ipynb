{
 "cells": [
  {
   "cell_type": "code",
   "execution_count": 2,
   "metadata": {},
   "outputs": [
    {
     "name": "stdout",
     "output_type": "stream",
     "text": [
      "foo: {}\n",
      "bar: {'key_1': 10, 'key_2': 'Hello, world', 'key_3': [10, 20, 30]}\n",
      "type(bar): <class 'dict'>\n"
     ]
    }
   ],
   "source": [
    "# Создание пустого словаря\n",
    "foo = {}\n",
    "\n",
    "# Создание заполненного словаря\n",
    "bar = {\n",
    "    \"key_1\": 10,\n",
    "    \"key_2\": \"Hello, world\",\n",
    "    \"key_3\": [10, 20, 30]\n",
    "}\n",
    "\n",
    "print(\"foo:\", foo)\n",
    "print(\"bar:\", bar)\n",
    "print(\"type(bar):\", type(bar))"
   ]
  },
  {
   "cell_type": "code",
   "execution_count": 5,
   "metadata": {},
   "outputs": [
    {
     "name": "stdout",
     "output_type": "stream",
     "text": [
      "foo: {}\n",
      "bar: {'key_1': 10, 'key_2': 'Hello, world', 'key_3': [10, 20, 30]}\n",
      "spam: {'key_1': 10, 'key_2': 'Hello, world', 'key_3': [10, 20, 30]}\n"
     ]
    }
   ],
   "source": [
    "foo = dict()\n",
    "\n",
    "bar = dict(key_1=10, \n",
    "           key_2=\"Hello, world\", \n",
    "           key_3=[10, 20, 30])\n",
    "\n",
    "spam = dict([\n",
    "    (\"key_1\", 10), \n",
    "    (\"key_2\", \"Hello, world\"), \n",
    "    (\"key_3\", [10, 20, 30])\n",
    "    ])\n",
    "\n",
    "print(\"foo:\", foo)\n",
    "print(\"bar:\", bar)\n",
    "print(\"spam:\", spam)"
   ]
  },
  {
   "cell_type": "code",
   "execution_count": 6,
   "metadata": {},
   "outputs": [
    {
     "name": "stdout",
     "output_type": "stream",
     "text": [
      "foo: {'key_1': 10, 'key_2': 'Hello, world', 'key_3': [10, 20, 30]}\n"
     ]
    }
   ],
   "source": [
    "keys = [\"key_1\", \"key_2\", \"key_3\"]\n",
    "values = [10, \"Hello, world\", [10, 20, 30]]\n",
    "\n",
    "foo = dict(zip(keys, values))\n",
    "\n",
    "print(\"foo:\", foo)"
   ]
  },
  {
   "cell_type": "code",
   "execution_count": 30,
   "metadata": {},
   "outputs": [
    {
     "name": "stdout",
     "output_type": "stream",
     "text": [
      "bar: {'key_10': 20, 'key_15': 30, 'key_42': 84, 'key_50': 100}\n"
     ]
    }
   ],
   "source": [
    "foo = [10, 15, 42, 50]\n",
    "\n",
    "bar = {\"key_\" + str(n): n * 2 for n in foo}\n",
    "\n",
    "print(\"bar:\", bar)"
   ]
  },
  {
   "cell_type": "code",
   "execution_count": 31,
   "metadata": {},
   "outputs": [
    {
     "name": "stdout",
     "output_type": "stream",
     "text": [
      "foo: {'key_str': 'Hello, world', 100: [10, 20, 30], None: 0}\n"
     ]
    }
   ],
   "source": [
    "# Ключи могут быть разного типа\n",
    "foo = {\n",
    "    \"key_str\": \"Hello, world\",\n",
    "    100: [10, 20, 30],\n",
    "    None: 0,\n",
    "}\n",
    "\n",
    "print(\"foo:\", foo)"
   ]
  },
  {
   "cell_type": "code",
   "execution_count": 25,
   "metadata": {},
   "outputs": [
    {
     "ename": "TypeError",
     "evalue": "unhashable type: 'dict'",
     "output_type": "error",
     "traceback": [
      "\u001b[0;31m---------------------------------------------------------------------------\u001b[0m",
      "\u001b[0;31mTypeError\u001b[0m                                 Traceback (most recent call last)",
      "Cell \u001b[0;32mIn[25], line 3\u001b[0m\n\u001b[1;32m      1\u001b[0m \u001b[38;5;66;03m# Ошибка!\u001b[39;00m\n\u001b[1;32m      2\u001b[0m \u001b[38;5;66;03m# foo = {[1, 2, 3]: \"Hello, world\"}\u001b[39;00m\n\u001b[0;32m----> 3\u001b[0m foo \u001b[38;5;241m=\u001b[39m {{}: \u001b[38;5;124m\"\u001b[39m\u001b[38;5;124mHello, world\u001b[39m\u001b[38;5;124m\"\u001b[39m}\n",
      "\u001b[0;31mTypeError\u001b[0m: unhashable type: 'dict'"
     ]
    }
   ],
   "source": [
    "# Не все типы могут выступать в качестве ключей\n",
    "# Ошибка!\n",
    "foo = {[1, 2, 3]: \"Hello, world\"}\n",
    "\n",
    "# foo = {{}: \"Hello, world\"}"
   ]
  },
  {
   "cell_type": "code",
   "execution_count": 32,
   "metadata": {},
   "outputs": [
    {
     "name": "stdout",
     "output_type": "stream",
     "text": [
      "{'key_1': 200, 'key_2': 'Hello, world', 'key_3': [10, 20, 30]}\n"
     ]
    }
   ],
   "source": [
    "foo = {}\n",
    "foo[\"key_1\"] = 10\n",
    "foo[\"key_2\"] = \"Hello, world\"\n",
    "foo[\"key_3\"] = [10, 20, 30]\n",
    "foo[\"key_1\"] = 200\n",
    "\n",
    "print(foo)"
   ]
  },
  {
   "cell_type": "code",
   "execution_count": 29,
   "metadata": {},
   "outputs": [
    {
     "name": "stdout",
     "output_type": "stream",
     "text": [
      "['__class__', '__class_getitem__', '__contains__', '__delattr__', '__delitem__', '__dir__', '__doc__', '__eq__', '__format__', '__ge__', '__getattribute__', '__getitem__', '__getstate__', '__gt__', '__hash__', '__init__', '__init_subclass__', '__ior__', '__iter__', '__le__', '__len__', '__lt__', '__ne__', '__new__', '__or__', '__reduce__', '__reduce_ex__', '__repr__', '__reversed__', '__ror__', '__setattr__', '__setitem__', '__sizeof__', '__str__', '__subclasshook__', 'clear', 'copy', 'fromkeys', 'get', 'items', 'keys', 'pop', 'popitem', 'setdefault', 'update', 'values']\n"
     ]
    }
   ],
   "source": [
    "print(dir(dict))"
   ]
  },
  {
   "cell_type": "code",
   "execution_count": 34,
   "metadata": {},
   "outputs": [
    {
     "name": "stdout",
     "output_type": "stream",
     "text": [
      "Hello, dict\n"
     ]
    }
   ],
   "source": [
    "# Получение элементов словаря\n",
    "foo = {\n",
    "    \"key_1\": 10,\n",
    "    \"key_2\": \"Hello, dict\",\n",
    "    \"key_3\": [10, 20, 30]\n",
    "}\n",
    "\n",
    "print(foo[\"key_2\"])"
   ]
  },
  {
   "cell_type": "code",
   "execution_count": 36,
   "metadata": {},
   "outputs": [],
   "source": [
    "# Попытка получить отсутствующий элемент\n",
    "foo = {\n",
    "    \"key_1\": 10,\n",
    "    \"key_2\": \"Hello, dict\",\n",
    "    \"key_3\": [10, 20, 30]\n",
    "}\n",
    "\n",
    "# ! Ошибка\n",
    "print(foo[\"invalid_key\"])"
   ]
  },
  {
   "cell_type": "code",
   "execution_count": 40,
   "metadata": {},
   "outputs": [
    {
     "name": "stdout",
     "output_type": "stream",
     "text": [
      "bar:  10\n",
      "spam: None\n"
     ]
    }
   ],
   "source": [
    "# Использование dict.get()\n",
    "foo = {\n",
    "    \"key_1\": 10,\n",
    "    \"key_2\": \"Hello, dict\",\n",
    "    \"key_3\": [10, 20, 30]\n",
    "}\n",
    "\n",
    "bar = foo.get(\"key_1\")\n",
    "spam = foo.get(\"invalid_key\")\n",
    "\n",
    "print(\"bar: \", bar)\n",
    "print(\"spam:\", spam)"
   ]
  },
  {
   "cell_type": "code",
   "execution_count": 42,
   "metadata": {},
   "outputs": [
    {
     "name": "stdout",
     "output_type": "stream",
     "text": [
      "bar:  10\n",
      "spam: 0\n"
     ]
    }
   ],
   "source": [
    "# Использование dict.get() с указанием значения по умолчанию\n",
    "foo = {\n",
    "    \"key_1\": 10,\n",
    "    \"key_2\": \"Hello, dict\",\n",
    "    \"key_3\": [10, 20, 30]\n",
    "}\n",
    "\n",
    "bar = foo.get(\"key_1\", 0)\n",
    "spam = foo.get(\"invalid_key\", 0)\n",
    "\n",
    "print(\"bar: \", bar)\n",
    "print(\"spam:\", spam)"
   ]
  },
  {
   "cell_type": "code",
   "execution_count": 43,
   "metadata": {},
   "outputs": [
    {
     "name": "stdout",
     "output_type": "stream",
     "text": [
      "{'key_1': 10, 'key_2': 'Hello, dict'}\n"
     ]
    }
   ],
   "source": [
    "# Удаление элементов\n",
    "foo = {\n",
    "    \"key_1\": 10,\n",
    "    \"key_2\": \"Hello, dict\",\n",
    "    \"key_3\": [10, 20, 30]\n",
    "}\n",
    "\n",
    "del foo[\"key_3\"]\n",
    "\n",
    "print(foo)"
   ]
  },
  {
   "cell_type": "code",
   "execution_count": null,
   "metadata": {},
   "outputs": [],
   "source": []
  }
 ],
 "metadata": {
  "kernelspec": {
   "display_name": "Python 3",
   "language": "python",
   "name": "python3"
  },
  "language_info": {
   "codemirror_mode": {
    "name": "ipython",
    "version": 3
   },
   "file_extension": ".py",
   "mimetype": "text/x-python",
   "name": "python",
   "nbconvert_exporter": "python",
   "pygments_lexer": "ipython3",
   "version": "3.11.7"
  }
 },
 "nbformat": 4,
 "nbformat_minor": 2
}
