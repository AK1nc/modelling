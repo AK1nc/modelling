{
 "cells": [
  {
   "cell_type": "markdown",
   "id": "08667a46-23e6-4cee-b4c7-bb1f35651e02",
   "metadata": {},
   "source": [
    "## Списки"
   ]
  },
  {
   "cell_type": "code",
   "execution_count": 1,
   "id": "1038bd92",
   "metadata": {},
   "outputs": [
    {
     "name": "stdout",
     "output_type": "stream",
     "text": [
      "foo: [10, 20, 35, -5, 42, 16]\n",
      "type(foo): <class 'list'>\n",
      "\n",
      "bar: [10, 1.5, (5+2j), 'Строка']\n"
     ]
    }
   ],
   "source": [
    "foo = [10, 20, 35, -5, 42, 16]\n",
    "print(\"foo:\", foo)\n",
    "print(\"type(foo):\", type(foo))\n",
    "print()\n",
    "\n",
    "bar = [10, 1.5, 5+2j, 'Строка']\n",
    "print(\"bar:\", bar)"
   ]
  },
  {
   "cell_type": "code",
   "execution_count": 2,
   "id": "8492e70d",
   "metadata": {},
   "outputs": [
    {
     "name": "stdout",
     "output_type": "stream",
     "text": [
      "foo: [10, 20, 35, -5, 42, 16]\n",
      "10\n",
      "20\n",
      "16\n",
      "42\n"
     ]
    }
   ],
   "source": [
    "foo = [10, 20, 35, -5, 42, 16]\n",
    "print(\"foo:\", foo)\n",
    "\n",
    "print(foo[0])\n",
    "print(foo[1])\n",
    "print(foo[-1])\n",
    "print(foo[-2])"
   ]
  },
  {
   "cell_type": "code",
   "execution_count": 3,
   "id": "452bffef",
   "metadata": {},
   "outputs": [
    {
     "name": "stdout",
     "output_type": "stream",
     "text": [
      "foo: [10, 20, 35, -5, 42, 16]\n",
      "foo: [10, 100, 35, -5, 200, 16]\n"
     ]
    }
   ],
   "source": [
    "foo = [10, 20, 35, -5, 42, 16]\n",
    "print(\"foo:\", foo)\n",
    "\n",
    "foo[1] = 100\n",
    "foo[-2] = 200\n",
    "print(\"foo:\", foo)"
   ]
  },
  {
   "cell_type": "markdown",
   "id": "98e52786",
   "metadata": {},
   "source": [
    "### Interning"
   ]
  },
  {
   "cell_type": "code",
   "execution_count": 4,
   "id": "24aa7fa6",
   "metadata": {},
   "outputs": [
    {
     "name": "stdout",
     "output_type": "stream",
     "text": [
      "x: 0 ; y: 0\n",
      "x is y: True\n",
      "\n",
      "x: 256 ; y: 256\n",
      "x is y: True\n",
      "\n",
      "x: -5 ; y: -5\n",
      "x is y: True\n",
      "\n",
      "x: 257 ; y: 257\n",
      "x is y: False\n",
      "\n",
      "x: -6 ; y: -6\n",
      "x is y: False\n",
      "\n"
     ]
    }
   ],
   "source": [
    "x = 0\n",
    "y = 0\n",
    "print(\"x:\", x, \"; y:\", y)\n",
    "print(\"x is y:\", x is y)\n",
    "print()\n",
    "\n",
    "x = 256\n",
    "y = 256\n",
    "print(\"x:\", x, \"; y:\", y)\n",
    "print(\"x is y:\", x is y)\n",
    "print()\n",
    "\n",
    "x = -5\n",
    "y = -5\n",
    "print(\"x:\", x, \"; y:\", y)\n",
    "print(\"x is y:\", x is y)\n",
    "print()\n",
    "\n",
    "x = 257\n",
    "y = 257\n",
    "print(\"x:\", x, \"; y:\", y)\n",
    "print(\"x is y:\", x is y)\n",
    "print()\n",
    "\n",
    "x = -6\n",
    "y = -6\n",
    "print(\"x:\", x, \"; y:\", y)\n",
    "print(\"x is y:\", x is y)\n",
    "print()"
   ]
  },
  {
   "cell_type": "code",
   "execution_count": 5,
   "id": "97f73986",
   "metadata": {},
   "outputs": [
    {
     "name": "stdout",
     "output_type": "stream",
     "text": [
      "len(foo): 4096 ; len(bar): 4096\n",
      "foo == bar: True\n",
      "foo is bar: True\n",
      "\n",
      "len(foo): 4097 ; len(bar): 4097\n",
      "foo == bar: True\n",
      "foo is bar: False\n"
     ]
    }
   ],
   "source": [
    "foo = \"S\" * 4096\n",
    "bar = \"S\" * 4096\n",
    "print(\"len(foo):\", len(foo), \"; len(bar):\", len(bar))\n",
    "print(\"foo == bar:\", foo == bar)\n",
    "print(\"foo is bar:\", foo is bar)\n",
    "print()\n",
    "\n",
    "foo = \"S\" * 4097\n",
    "bar = \"S\" * 4097\n",
    "print(\"len(foo):\", len(foo), \"; len(bar):\", len(bar))\n",
    "print(\"foo == bar:\", foo == bar)\n",
    "print(\"foo is bar:\", foo is bar)"
   ]
  },
  {
   "cell_type": "code",
   "execution_count": 22,
   "id": "0b1b3a8d",
   "metadata": {},
   "outputs": [
    {
     "name": "stdout",
     "output_type": "stream",
     "text": [
      "len(foo): 20 ; len(bar): 20\n",
      "foo == bar: True\n",
      "foo is bar: False\n"
     ]
    }
   ],
   "source": [
    "n = 20\n",
    "foo = \"S\" * n\n",
    "bar = \"S\" * n\n",
    "print(\"len(foo):\", len(foo), \"; len(bar):\", len(bar))\n",
    "print(\"foo == bar:\", foo == bar)\n",
    "print(\"foo is bar:\", foo is bar)"
   ]
  },
  {
   "cell_type": "code",
   "execution_count": 23,
   "id": "56498e3c",
   "metadata": {},
   "outputs": [
    {
     "name": "stdout",
     "output_type": "stream",
     "text": [
      "foo == bar: True\n",
      "foo is bar: False\n"
     ]
    }
   ],
   "source": [
    "foo = \"formatted {}\".format(\"text\")\n",
    "bar = \"formatted {}\".format(\"text\")\n",
    "print(\"foo == bar:\", foo == bar)\n",
    "print(\"foo is bar:\", foo is bar)"
   ]
  },
  {
   "cell_type": "code",
   "execution_count": 6,
   "id": "41923ee3",
   "metadata": {},
   "outputs": [
    {
     "name": "stdout",
     "output_type": "stream",
     "text": [
      "len(foo): 5000 ; len(bar): 5000\n",
      "foo == bar: True\n",
      "foo is bar: True\n"
     ]
    }
   ],
   "source": [
    "import sys\n",
    "foo = sys.intern(\"S\" * 5000)\n",
    "bar = sys.intern(\"S\" * 5000)\n",
    "\n",
    "print(\"len(foo):\", len(foo), \"; len(bar):\", len(bar))\n",
    "print(\"foo == bar:\", foo == bar)\n",
    "print(\"foo is bar:\", foo is bar)"
   ]
  },
  {
   "cell_type": "code",
   "execution_count": 7,
   "id": "984865fa",
   "metadata": {},
   "outputs": [
    {
     "name": "stdout",
     "output_type": "stream",
     "text": [
      "len(foo): 5000 ; len(bar): 5000\n",
      "foo == bar: True\n",
      "foo is bar: False\n"
     ]
    }
   ],
   "source": [
    "import sys\n",
    "foo = sys.intern(\"S\" * 5000)\n",
    "bar = \"S\" * 5000\n",
    "\n",
    "print(\"len(foo):\", len(foo), \"; len(bar):\", len(bar))\n",
    "print(\"foo == bar:\", foo == bar)\n",
    "print(\"foo is bar:\", foo is bar)"
   ]
  },
  {
   "cell_type": "code",
   "execution_count": 24,
   "id": "e20b3cf1",
   "metadata": {},
   "outputs": [
    {
     "name": "stdout",
     "output_type": "stream",
     "text": [
      "foo == bar: True\n",
      "foo is bar: True\n"
     ]
    }
   ],
   "source": [
    "import sys\n",
    "\n",
    "foo = sys.intern(\"formatted {}\".format(\"text\"))\n",
    "bar = sys.intern(\"formatted {}\".format(\"text\"))\n",
    "print(\"foo == bar:\", foo == bar)\n",
    "print(\"foo is bar:\", foo is bar)"
   ]
  },
  {
   "cell_type": "code",
   "execution_count": 8,
   "id": "828e40f6",
   "metadata": {},
   "outputs": [
    {
     "name": "stdout",
     "output_type": "stream",
     "text": [
      "['__add__', '__class__', '__class_getitem__', '__contains__', '__delattr__', '__delitem__', '__dir__', '__doc__', '__eq__', '__format__', '__ge__', '__getattribute__', '__getitem__', '__getstate__', '__gt__', '__hash__', '__iadd__', '__imul__', '__init__', '__init_subclass__', '__iter__', '__le__', '__len__', '__lt__', '__mul__', '__ne__', '__new__', '__reduce__', '__reduce_ex__', '__repr__', '__reversed__', '__rmul__', '__setattr__', '__setitem__', '__sizeof__', '__str__', '__subclasshook__', 'append', 'clear', 'copy', 'count', 'extend', 'index', 'insert', 'pop', 'remove', 'reverse', 'sort']\n"
     ]
    }
   ],
   "source": [
    "print(dir(list))"
   ]
  },
  {
   "cell_type": "code",
   "execution_count": 9,
   "id": "c3db6f9b",
   "metadata": {},
   "outputs": [
    {
     "name": "stdout",
     "output_type": "stream",
     "text": [
      "foo: [10, 20, 35, -5, 42, 16, 100, 'text']\n"
     ]
    }
   ],
   "source": [
    "foo = [10, 20, 35, -5, 42, 16]\n",
    "foo.append(100)\n",
    "foo.append(\"text\")\n",
    "print(\"foo:\", foo)"
   ]
  },
  {
   "cell_type": "code",
   "execution_count": 10,
   "id": "89e9f234",
   "metadata": {},
   "outputs": [
    {
     "name": "stdout",
     "output_type": "stream",
     "text": [
      "foo: [10, 20, 35, -5, 42, 16, 100, 'text']\n"
     ]
    }
   ],
   "source": [
    "foo = [10, 20, 35, -5, 42, 16]\n",
    "foo.extend([100, \"text\"])\n",
    "print(\"foo:\", foo)"
   ]
  },
  {
   "cell_type": "code",
   "execution_count": 11,
   "id": "68fc831a",
   "metadata": {},
   "outputs": [
    {
     "name": "stdout",
     "output_type": "stream",
     "text": [
      "1) foo: [100, 10, 20, 35, -5, 42, 16]\n",
      "2) foo: [100, 10, 20, 'text', 35, -5, 42, 16]\n"
     ]
    }
   ],
   "source": [
    "foo = [10, 20, 35, -5, 42, 16]\n",
    "foo.insert(0, 100)\n",
    "print(\"1) foo:\", foo)\n",
    "\n",
    "foo.insert(3, \"text\")\n",
    "print(\"2) foo:\", foo)"
   ]
  },
  {
   "cell_type": "code",
   "execution_count": 12,
   "id": "8378d4bc",
   "metadata": {},
   "outputs": [
    {
     "name": "stdout",
     "output_type": "stream",
     "text": [
      "1) foo: [10, 20, 35, -5, 42, 42, 16]\n",
      "2) foo: [20, 35, -5, 42, 42, 16]\n"
     ]
    }
   ],
   "source": [
    "foo = [10, 20, 35, -5, 42, 42, 42, 16]\n",
    "foo.remove(42)\n",
    "print(\"1) foo:\", foo)\n",
    "\n",
    "foo.remove(10)\n",
    "print(\"2) foo:\", foo)"
   ]
  },
  {
   "cell_type": "code",
   "execution_count": 13,
   "id": "f3a5662e",
   "metadata": {},
   "outputs": [],
   "source": [
    "foo = [10, 20, 35, -5, 42, 42, 42, 16]\n",
    "# foo.remove(1000)"
   ]
  },
  {
   "cell_type": "code",
   "execution_count": 14,
   "id": "4d69c19c",
   "metadata": {},
   "outputs": [
    {
     "name": "stdout",
     "output_type": "stream",
     "text": [
      "1) foo: [10, 20, -5, 42, 16, 50, 25]\n",
      "2) foo: [10, 20, -5, 42]\n",
      "3) foo: [-5, 42]\n"
     ]
    }
   ],
   "source": [
    "foo = [10, 20, 35, -5, 42, 16, 50, 25]\n",
    "n = 2\n",
    "foo = foo[:n] + foo[n + 1:]\n",
    "print(\"1) foo:\", foo)\n",
    "\n",
    "foo = foo[:-3]\n",
    "print(\"2) foo:\", foo)\n",
    "\n",
    "foo = foo[2:]\n",
    "print(\"3) foo:\", foo)"
   ]
  },
  {
   "cell_type": "code",
   "execution_count": 15,
   "id": "1b1ba908",
   "metadata": {},
   "outputs": [
    {
     "name": "stdout",
     "output_type": "stream",
     "text": [
      "1) foo: [10, 20, -5, 42, 16, 50, 25]\n",
      "2) foo: [10, 20, -5, 42]\n",
      "3) foo: [-5, 42]\n"
     ]
    }
   ],
   "source": [
    "foo = [10, 20, 35, -5, 42, 16, 50, 25]\n",
    "del foo[2]\n",
    "print(\"1) foo:\", foo)\n",
    "\n",
    "del foo[-3:]\n",
    "print(\"2) foo:\", foo)\n",
    "\n",
    "del foo[:2]\n",
    "print(\"3) foo:\", foo)"
   ]
  },
  {
   "cell_type": "code",
   "execution_count": 16,
   "metadata": {},
   "outputs": [
    {
     "name": "stdout",
     "output_type": "stream",
     "text": [
      "1) foo: [10, 20, -5, 42, 16] ; a: 35\n",
      "2) foo: [10, 20, -5, 42]     ; b: 16\n"
     ]
    }
   ],
   "source": [
    "foo = [10, 20, 35, -5, 42, 16]\n",
    "a = foo.pop(2)\n",
    "print(\"1) foo:\", foo, \"; a:\", a)\n",
    "\n",
    "b = foo.pop()\n",
    "print(\"2) foo:\", foo, \"    ; b:\", b)"
   ]
  },
  {
   "cell_type": "code",
   "execution_count": 17,
   "id": "de5af1e0",
   "metadata": {},
   "outputs": [
    {
     "name": "stdout",
     "output_type": "stream",
     "text": [
      "foo: []\n"
     ]
    }
   ],
   "source": [
    "foo = [10, 20, 35, -5, 42, 16]\n",
    "foo.clear()\n",
    "print(\"foo:\", foo)"
   ]
  },
  {
   "cell_type": "code",
   "execution_count": 18,
   "id": "f266a449",
   "metadata": {},
   "outputs": [
    {
     "name": "stdout",
     "output_type": "stream",
     "text": [
      "index_1: 4\n",
      "index_2: 6\n"
     ]
    }
   ],
   "source": [
    "foo = [10, 20, 35, -5, 42, 16, 42, 20, 50, 42]\n",
    "n = 42\n",
    "index_1 = foo.index(n)\n",
    "index_2 = foo.index(n, index_1 + 1)\n",
    "\n",
    "print(\"index_1:\", index_1)\n",
    "print(\"index_2:\", index_2)"
   ]
  },
  {
   "cell_type": "code",
   "execution_count": 19,
   "id": "1d556fbf",
   "metadata": {},
   "outputs": [
    {
     "name": "stdout",
     "output_type": "stream",
     "text": [
      "count_42: 3\n",
      "count_100: 0\n"
     ]
    }
   ],
   "source": [
    "foo = [10, 20, 35, -5, 42, 16, 42, 20, 50, 42]\n",
    "count_42 = foo.count(42)\n",
    "count_100 = foo.count(100)\n",
    "\n",
    "print(\"count_42:\", count_42)\n",
    "print(\"count_100:\", count_100)"
   ]
  },
  {
   "cell_type": "markdown",
   "id": "dd544936-fed6-4c95-b677-149c11707989",
   "metadata": {},
   "source": [
    "## Массивы"
   ]
  },
  {
   "cell_type": "code",
   "execution_count": 20,
   "id": "6372bfed-866d-45ed-a565-90bd768ae9e3",
   "metadata": {},
   "outputs": [],
   "source": [
    "from array import array"
   ]
  },
  {
   "cell_type": "code",
   "execution_count": 21,
   "id": "5a0bc390-0d57-4a98-a2f0-8a3151e153a7",
   "metadata": {},
   "outputs": [
    {
     "name": "stdout",
     "output_type": "stream",
     "text": [
      "<class 'array.array'>\n",
      "array('i', [10, 20, 30])\n"
     ]
    }
   ],
   "source": [
    "a = array(\"i\")\n",
    "a.append(10)\n",
    "a.append(20)\n",
    "a.append(30)\n",
    "\n",
    "print(type(a))\n",
    "print(a)"
   ]
  },
  {
   "cell_type": "code",
   "execution_count": null,
   "id": "cfe28cd0-b01f-4a28-91ef-212909250481",
   "metadata": {},
   "outputs": [],
   "source": []
  }
 ],
 "metadata": {
  "kernelspec": {
   "display_name": "Python 3 (ipykernel)",
   "language": "python",
   "name": "python3"
  },
  "language_info": {
   "codemirror_mode": {
    "name": "ipython",
    "version": 3
   },
   "file_extension": ".py",
   "mimetype": "text/x-python",
   "name": "python",
   "nbconvert_exporter": "python",
   "pygments_lexer": "ipython3",
   "version": "3.11.6"
  }
 },
 "nbformat": 4,
 "nbformat_minor": 5
}
