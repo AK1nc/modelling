{
 "cells": [
  {
   "cell_type": "markdown",
   "id": "dd544936-fed6-4c95-b677-149c11707989",
   "metadata": {},
   "source": [
    "## Numpy"
   ]
  },
  {
   "cell_type": "code",
   "execution_count": 26,
   "id": "6372bfed-866d-45ed-a565-90bd768ae9e3",
   "metadata": {},
   "outputs": [
    {
     "name": "stdout",
     "output_type": "stream",
     "text": [
      "xdata=array('d', [0.0, 0.1, 0.2, 0.30000000000000004, 0.4, 0.5, 0.6000000000000001, 0.7000000000000001, 0.8, 0.9, 1.0, 1.1, 1.2000000000000002, 1.3, 1.4000000000000001, 1.5, 1.6, 1.7000000000000002, 1.8, 1.9000000000000001, 2.0, 2.1, 2.2, 2.3000000000000003, 2.4000000000000004, 2.5, 2.6, 2.7, 2.8000000000000003, 2.9000000000000004, 3.0, 3.1, 3.2, 3.3000000000000003, 3.4000000000000004, 3.5, 3.6, 3.7, 3.8000000000000003, 3.9000000000000004, 4.0, 4.1000000000000005, 4.2, 4.3, 4.4, 4.5, 4.6000000000000005, 4.7, 4.800000000000001, 4.9, 5.0, 5.1000000000000005, 5.2, 5.300000000000001, 5.4, 5.5, 5.6000000000000005, 5.7, 5.800000000000001, 5.9, 6.0, 6.1000000000000005, 6.2, 6.300000000000001, 6.4, 6.5, 6.6000000000000005, 6.7, 6.800000000000001, 6.9, 7.0, 7.1000000000000005, 7.2, 7.300000000000001, 7.4, 7.5, 7.6000000000000005, 7.7, 7.800000000000001, 7.9, 8.0, 8.1, 8.200000000000001, 8.3, 8.4, 8.5, 8.6, 8.700000000000001, 8.8, 8.9, 9.0, 9.1, 9.200000000000001, 9.3, 9.4, 9.5, 9.600000000000001, 9.700000000000001, 9.8, 9.9, 10.0])\n",
      "ydata=array('d', [0.0, 0.09537450575679464, 0.1639688742954361, 0.1836983062860955, 0.14110875607099113, 0.033913221008892595, -0.1282879527080379, -0.32523078991627774, -0.5289738732345427, -0.7081840370865239, -0.833049961066805, -0.8800492388545531, -0.8358138946934957, -0.6994780137708085, -0.483127394014113, -0.21026775312939655, 0.0874616741390373, 0.37482722658272033, 0.618094153572003, 0.7898887814871028, 0.8730803709656549, 0.8630873402509343, 0.7682596333906389, 0.6082904588668554, 0.41091891380642953, 0.20745158188688437, 0.027814093317249523, -0.10408587125525258, -0.17395554563949792, -0.17911320777747564, -0.12857870990075454, -0.0412573863154065, 0.05748031012552265, 0.14026607559692292, 0.18252423185894392, 0.16681037848804062, 0.08599495635006196, -0.05522801421815581, -0.24076049158884394, -0.4453948465375814, -0.6386307816442235, -0.7894186195138612, -0.8710829708348925, -0.865648581957855, -0.766880845404943, -0.5815528660067163, -0.32872776808607057, -0.037155533165861704, 0.25882085502144003, 0.524221374660032, 0.7284831808084987, 0.8498337938681061, 0.8783108515814471, 0.8169683222593936, 0.6810933608607151, 0.4955694486301498, 0.2908110230149409, 0.09791688481021486, -0.05619066011291618, -0.15287545367975325, -0.18450272200309445, -0.1553402690705972, -0.08051547532820642, 0.01679251265217, 0.1094653845869251, 0.17119570682648091, 0.181105789892737, 0.12748760747955493, 0.010055623397112936, -0.15965926701385771, -0.3598507836935006, -0.5616811394063967, -0.733723538784926, -0.8469063254000596, -0.8791789005412505, -0.8191597321249894, -0.6681838673665628, -0.4404167005957162, -0.16100309629766327, 0.13747128960413657, 0.41966499895337794, 0.6525907358531217, 0.8103622798560447, 0.8778472954632786, 0.8526666440539731, 0.7452400889997903, 0.5768843305450038, 0.37627389125842664, 0.1748305243519294, 0.001772385396311793, -0.12039580333571982, -0.1792437010337379, -0.17410444573937797, -0.11583612842589704, -0.024707008335961064, 0.07324568452321649, 0.15079090206248702, 0.18427205394187257, 0.15779689941983477, 0.06616942255990056, -0.08391604512413943])\n"
     ]
    }
   ],
   "source": [
    "# Пример расчета функции на сетке без использования Numpy\n",
    "from array import array\n",
    "import math\n",
    "\n",
    "def func(x):\n",
    "    return math.sin(x) * math.cos(3 * x)\n",
    "\n",
    "minval = 0\n",
    "maxval = 10\n",
    "count = 101\n",
    "step = (maxval - minval) / (count - 1)\n",
    "\n",
    "xdata = array('d', [0] * count)\n",
    "ydata = array('d', [0] * count)\n",
    "\n",
    "for n in range(count):\n",
    "    xdata[n] = minval + n * step\n",
    "    ydata[n] = func(xdata[n])\n",
    "\n",
    "print(f\"{xdata=}\")\n",
    "print(f\"{ydata=}\")"
   ]
  },
  {
   "cell_type": "code",
   "execution_count": 28,
   "id": "ca246071",
   "metadata": {},
   "outputs": [
    {
     "name": "stdout",
     "output_type": "stream",
     "text": [
      "type(xdata)=<class 'numpy.ndarray'>\n",
      "xdata=array([ 0. ,  0.1,  0.2,  0.3,  0.4,  0.5,  0.6,  0.7,  0.8,  0.9,  1. ,\n",
      "        1.1,  1.2,  1.3,  1.4,  1.5,  1.6,  1.7,  1.8,  1.9,  2. ,  2.1,\n",
      "        2.2,  2.3,  2.4,  2.5,  2.6,  2.7,  2.8,  2.9,  3. ,  3.1,  3.2,\n",
      "        3.3,  3.4,  3.5,  3.6,  3.7,  3.8,  3.9,  4. ,  4.1,  4.2,  4.3,\n",
      "        4.4,  4.5,  4.6,  4.7,  4.8,  4.9,  5. ,  5.1,  5.2,  5.3,  5.4,\n",
      "        5.5,  5.6,  5.7,  5.8,  5.9,  6. ,  6.1,  6.2,  6.3,  6.4,  6.5,\n",
      "        6.6,  6.7,  6.8,  6.9,  7. ,  7.1,  7.2,  7.3,  7.4,  7.5,  7.6,\n",
      "        7.7,  7.8,  7.9,  8. ,  8.1,  8.2,  8.3,  8.4,  8.5,  8.6,  8.7,\n",
      "        8.8,  8.9,  9. ,  9.1,  9.2,  9.3,  9.4,  9.5,  9.6,  9.7,  9.8,\n",
      "        9.9, 10. ])\n",
      "type(ydata)=<class 'numpy.ndarray'>\n",
      "ydata=array([ 0.        ,  0.09537451,  0.16396887,  0.18369831,  0.14110876,\n",
      "        0.03391322, -0.12828795, -0.32523079, -0.52897387, -0.70818404,\n",
      "       -0.83304996, -0.88004924, -0.83581389, -0.69947801, -0.48312739,\n",
      "       -0.21026775,  0.08746167,  0.37482723,  0.61809415,  0.78988878,\n",
      "        0.87308037,  0.86308734,  0.76825963,  0.60829046,  0.41091891,\n",
      "        0.20745158,  0.02781409, -0.10408587, -0.17395555, -0.17911321,\n",
      "       -0.12857871, -0.04125739,  0.05748031,  0.14026608,  0.18252423,\n",
      "        0.16681038,  0.08599496, -0.05522801, -0.24076049, -0.44539485,\n",
      "       -0.63863078, -0.78941862, -0.87108297, -0.86564858, -0.76688085,\n",
      "       -0.58155287, -0.32872777, -0.03715553,  0.25882086,  0.52422137,\n",
      "        0.72848318,  0.84983379,  0.87831085,  0.81696832,  0.68109336,\n",
      "        0.49556945,  0.29081102,  0.09791688, -0.05619066, -0.15287545,\n",
      "       -0.18450272, -0.15534027, -0.08051548,  0.01679251,  0.10946538,\n",
      "        0.17119571,  0.18110579,  0.12748761,  0.01005562, -0.15965927,\n",
      "       -0.35985078, -0.56168114, -0.73372354, -0.84690633, -0.8791789 ,\n",
      "       -0.81915973, -0.66818387, -0.4404167 , -0.1610031 ,  0.13747129,\n",
      "        0.419665  ,  0.65259074,  0.81036228,  0.8778473 ,  0.85266664,\n",
      "        0.74524009,  0.57688433,  0.37627389,  0.17483052,  0.00177239,\n",
      "       -0.1203958 , -0.1792437 , -0.17410445, -0.11583613, -0.02470701,\n",
      "        0.07324568,  0.1507909 ,  0.18427205,  0.1577969 ,  0.06616942,\n",
      "       -0.08391605])\n"
     ]
    }
   ],
   "source": [
    "# Пример расчета функции на сетке с использованием Numpy\n",
    "import numpy as np\n",
    "\n",
    "def func(x):\n",
    "    return np.sin(x) * np.cos(3 * x)\n",
    "\n",
    "minval = 0\n",
    "maxval = 10\n",
    "count = 101\n",
    "\n",
    "xdata = np.linspace(minval, maxval, count)\n",
    "ydata = func(xdata)\n",
    "\n",
    "print(f\"{type(xdata)=}\")\n",
    "print(f\"{xdata=}\")\n",
    "print(f\"{type(ydata)=}\")\n",
    "print(f\"{ydata=}\")"
   ]
  },
  {
   "cell_type": "code",
   "execution_count": 38,
   "id": "a1c788db",
   "metadata": {},
   "outputs": [
    {
     "name": "stdout",
     "output_type": "stream",
     "text": [
      "type(foo)=<class 'numpy.ndarray'>\n",
      "[0. 0. 0. 0. 0.]\n",
      "\n",
      "type(foo_2d)=<class 'numpy.ndarray'>\n",
      "[[0. 0. 0. 0.]\n",
      " [0. 0. 0. 0.]\n",
      " [0. 0. 0. 0.]]\n",
      "\n",
      "type(foo_3d)=<class 'numpy.ndarray'>\n",
      "[[[0. 0. 0. 0. 0.]\n",
      "  [0. 0. 0. 0. 0.]\n",
      "  [0. 0. 0. 0. 0.]\n",
      "  [0. 0. 0. 0. 0.]]\n",
      "\n",
      " [[0. 0. 0. 0. 0.]\n",
      "  [0. 0. 0. 0. 0.]\n",
      "  [0. 0. 0. 0. 0.]\n",
      "  [0. 0. 0. 0. 0.]]\n",
      "\n",
      " [[0. 0. 0. 0. 0.]\n",
      "  [0. 0. 0. 0. 0.]\n",
      "  [0. 0. 0. 0. 0.]\n",
      "  [0. 0. 0. 0. 0.]]]\n"
     ]
    }
   ],
   "source": [
    "# Создание массивов Numpy, заполненных нулями\n",
    "import numpy as np\n",
    "\n",
    "foo = np.zeros(5)\n",
    "foo_2d = np.zeros((3, 4))\n",
    "foo_3d = np.zeros((3, 4, 5))\n",
    "\n",
    "print(f\"{type(foo)=}\")\n",
    "print(f\"{foo}\")\n",
    "print()\n",
    "print(f\"{type(foo_2d)=}\")\n",
    "print(f\"{foo_2d}\")\n",
    "print()\n",
    "print(f\"{type(foo_3d)=}\")\n",
    "print(f\"{foo_3d}\")"
   ]
  },
  {
   "cell_type": "code",
   "execution_count": 33,
   "id": "3f5fbe15",
   "metadata": {},
   "outputs": [
    {
     "name": "stdout",
     "output_type": "stream",
     "text": [
      "[1. 1. 1. 1. 1.]\n",
      "\n",
      "[[1. 1. 1. 1.]\n",
      " [1. 1. 1. 1.]\n",
      " [1. 1. 1. 1.]]\n"
     ]
    }
   ],
   "source": [
    "# Создание массивов Numpy, заполненных единицами\n",
    "import numpy as np\n",
    "\n",
    "foo = np.ones(5)\n",
    "foo_2d = np.ones((3, 4))\n",
    "\n",
    "print(f\"{foo}\")\n",
    "print()\n",
    "print(f\"{foo_2d}\")"
   ]
  },
  {
   "cell_type": "code",
   "execution_count": 40,
   "id": "b6d546f6",
   "metadata": {},
   "outputs": [
    {
     "name": "stdout",
     "output_type": "stream",
     "text": [
      "[[1. 0. 0.]\n",
      " [0. 1. 0.]\n",
      " [0. 0. 1.]]\n",
      "\n",
      "[[0. 0. 1. 0. 0.]\n",
      " [0. 0. 0. 1. 0.]\n",
      " [0. 0. 0. 0. 1.]\n",
      " [0. 0. 0. 0. 0.]\n",
      " [0. 0. 0. 0. 0.]]\n"
     ]
    }
   ],
   "source": [
    "# Создание единичной матрицы\n",
    "import numpy as np\n",
    "\n",
    "foo = np.eye(3)\n",
    "bar = np.eye(5, k=2)\n",
    "\n",
    "print(foo)\n",
    "print()\n",
    "print(bar)"
   ]
  },
  {
   "cell_type": "code",
   "execution_count": 41,
   "id": "19534001",
   "metadata": {},
   "outputs": [
    {
     "name": "stdout",
     "output_type": "stream",
     "text": [
      "[10 10 10 10 10]\n",
      "\n",
      "[[10 10 10 10 10]\n",
      " [10 10 10 10 10]\n",
      " [10 10 10 10 10]]\n"
     ]
    }
   ],
   "source": [
    "# Создание массива, заполненного заданным значением\n",
    "import numpy as np\n",
    "\n",
    "value = 10\n",
    "\n",
    "foo = np.full(5, value)\n",
    "bar = np.full((3, 5), value)\n",
    "\n",
    "print(foo)\n",
    "print()\n",
    "print(bar)"
   ]
  },
  {
   "cell_type": "code",
   "execution_count": 50,
   "id": "67a702fe",
   "metadata": {},
   "outputs": [
    {
     "name": "stdout",
     "output_type": "stream",
     "text": [
      "foo=array([1. , 1.1, 1.2, 1.3, 1.4, 1.5, 1.6, 1.7, 1.8, 1.9])\n",
      "\n",
      "bar=array([1., 2., 3., 4., 5., 6., 7., 8., 9.])\n",
      "\n",
      "baz=array([0., 1., 2., 3., 4., 5., 6., 7., 8., 9.])\n",
      "\n",
      "spam=array([1. , 1.1, 1.2, 1.3, 1.4, 1.5, 1.6, 1.7, 1.8, 1.9, 2. ])\n"
     ]
    }
   ],
   "source": [
    "# Создание массивов, заполненных последовательностью чисел\n",
    "import numpy as np\n",
    "\n",
    "foo = np.arange(1.0, 2.0, 0.1)\n",
    "bar = np.arange(1.0, 10.0)\n",
    "baz = np.arange(10.0)\n",
    "spam = np.linspace(1.0, 2.0, 11)\n",
    "\n",
    "print(f\"{foo=}\")\n",
    "print()\n",
    "print(f\"{bar=}\")\n",
    "print()\n",
    "print(f\"{baz=}\")\n",
    "print()\n",
    "print(f\"{spam=}\")"
   ]
  },
  {
   "cell_type": "code",
   "execution_count": 53,
   "id": "63143a0c",
   "metadata": {},
   "outputs": [
    {
     "name": "stdout",
     "output_type": "stream",
     "text": [
      "[[0.41051537 0.6603087  0.78040919 0.3147437 ]\n",
      " [0.15215242 0.01831297 0.34964879 0.78321118]\n",
      " [0.72880162 0.11398753 0.54571451 0.6963709 ]]\n",
      "\n",
      "[[-0.50537632  0.45000892 -0.76949472  0.3133065 ]\n",
      " [-0.7653202   0.28688652 -0.81511716  0.09936856]\n",
      " [-0.43253089 -0.71472923  0.95610258  0.68262218]]\n"
     ]
    }
   ],
   "source": [
    "# Создание массивов, заполненных случайными числами\n",
    "from numpy.random import rand\n",
    "\n",
    "foo = rand(3, 4)\n",
    "bar = rand(3, 4) * 2 - 1\n",
    "\n",
    "print(f\"{foo}\")\n",
    "print()\n",
    "print(f\"{bar}\")"
   ]
  },
  {
   "cell_type": "code",
   "execution_count": 63,
   "id": "caed9863",
   "metadata": {},
   "outputs": [
    {
     "name": "stdout",
     "output_type": "stream",
     "text": [
      "['T', '__abs__', '__add__', '__and__', '__array__', '__array_finalize__', '__array_function__', '__array_interface__', '__array_prepare__', '__array_priority__', '__array_struct__', '__array_ufunc__', '__array_wrap__', '__bool__', '__buffer__', '__class__', '__class_getitem__', '__complex__', '__contains__', '__copy__', '__deepcopy__', '__delattr__', '__delitem__', '__dir__', '__divmod__', '__dlpack__', '__dlpack_device__', '__doc__', '__eq__', '__float__', '__floordiv__', '__format__', '__ge__', '__getattribute__', '__getitem__', '__getstate__', '__gt__', '__hash__', '__iadd__', '__iand__', '__ifloordiv__', '__ilshift__', '__imatmul__', '__imod__', '__imul__', '__index__', '__init__', '__init_subclass__', '__int__', '__invert__', '__ior__', '__ipow__', '__irshift__', '__isub__', '__iter__', '__itruediv__', '__ixor__', '__le__', '__len__', '__lshift__', '__lt__', '__matmul__', '__mod__', '__mul__', '__ne__', '__neg__', '__new__', '__or__', '__pos__', '__pow__', '__radd__', '__rand__', '__rdivmod__', '__reduce__', '__reduce_ex__', '__repr__', '__rfloordiv__', '__rlshift__', '__rmatmul__', '__rmod__', '__rmul__', '__ror__', '__rpow__', '__rrshift__', '__rshift__', '__rsub__', '__rtruediv__', '__rxor__', '__setattr__', '__setitem__', '__setstate__', '__sizeof__', '__str__', '__sub__', '__subclasshook__', '__truediv__', '__xor__', 'all', 'any', 'argmax', 'argmin', 'argpartition', 'argsort', 'astype', 'base', 'byteswap', 'choose', 'clip', 'compress', 'conj', 'conjugate', 'copy', 'ctypes', 'cumprod', 'cumsum', 'data', 'diagonal', 'dot', 'dtype', 'dump', 'dumps', 'fill', 'flags', 'flat', 'flatten', 'getfield', 'imag', 'item', 'itemset', 'itemsize', 'max', 'mean', 'min', 'nbytes', 'ndim', 'newbyteorder', 'nonzero', 'partition', 'prod', 'ptp', 'put', 'ravel', 'real', 'repeat', 'reshape', 'resize', 'round', 'searchsorted', 'setfield', 'setflags', 'shape', 'size', 'sort', 'squeeze', 'std', 'strides', 'sum', 'swapaxes', 'take', 'tobytes', 'tofile', 'tolist', 'tostring', 'trace', 'transpose', 'var', 'view']\n"
     ]
    }
   ],
   "source": [
    "# Методы и свойства массивов ndarray\n",
    "from numpy.random import rand\n",
    "\n",
    "foo = np.round(rand(3, 4) * 10)\n",
    "print(dir(foo))"
   ]
  },
  {
   "cell_type": "code",
   "execution_count": 78,
   "id": "442c03ed",
   "metadata": {},
   "outputs": [
    {
     "name": "stdout",
     "output_type": "stream",
     "text": [
      "[[ 3.  1.  9.  5.]\n",
      " [ 4.  3.  6.  5.]\n",
      " [10.  0.  9.  4.]]\n",
      "\n",
      "[[ 3.  4. 10.]\n",
      " [ 1.  3.  0.]\n",
      " [ 9.  6.  9.]\n",
      " [ 5.  5.  4.]]\n",
      "\n",
      "foo.shape=(3, 4)\n"
     ]
    }
   ],
   "source": [
    "# Методы и свойства массивов ndarray\n",
    "from numpy.random import rand\n",
    "\n",
    "foo = np.round(rand(3, 4) * 10)\n",
    "\n",
    "print(f\"{foo}\")\n",
    "print()\n",
    "print(f\"{foo.T}\")\n",
    "print()\n",
    "print(f\"{foo.shape=}\")\n"
   ]
  },
  {
   "cell_type": "code",
   "execution_count": 77,
   "id": "ec6ee201",
   "metadata": {},
   "outputs": [
    {
     "name": "stdout",
     "output_type": "stream",
     "text": [
      "[[ 9.  2. 10.  6.]\n",
      " [ 6.  8.  5.  9.]\n",
      " [ 6.  8.  6.  8.]]\n",
      "\n",
      "foo.sum()=83.0\n",
      "foo.sum(axis=0)=array([21., 18., 21., 23.])\n",
      "foo.sum(axis=1)=array([27., 28., 28.])\n",
      "\n",
      "foo.prod()=5374771200.0\n",
      "foo.prod(axis=0)=array([324., 128., 300., 432.])\n",
      "foo.prod(axis=1)=array([1080., 2160., 2304.])\n"
     ]
    }
   ],
   "source": [
    "# Расчет суммы и произведения элементов\n",
    "from numpy.random import rand\n",
    "\n",
    "foo = np.round(rand(3, 4) * 10)\n",
    "\n",
    "print(f\"{foo}\")\n",
    "print()\n",
    "print(f\"{foo.sum()=}\")\n",
    "print(f\"{foo.sum(axis=0)=}\")\n",
    "print(f\"{foo.sum(axis=1)=}\")\n",
    "print()\n",
    "print(f\"{foo.prod()=}\")\n",
    "print(f\"{foo.prod(axis=0)=}\")\n",
    "print(f\"{foo.prod(axis=1)=}\")"
   ]
  },
  {
   "cell_type": "code",
   "execution_count": 81,
   "id": "0f98ef63",
   "metadata": {},
   "outputs": [
    {
     "name": "stdout",
     "output_type": "stream",
     "text": [
      "[[4. 4. 5. 3.]\n",
      " [8. 7. 8. 5.]\n",
      " [2. 8. 4. 6.]]\n",
      "\n",
      "foo.min()=2.0\n",
      "foo.min(axis=0)=array([2., 4., 4., 3.])\n",
      "foo.min(axis=1)=array([3., 5., 2.])\n",
      "\n",
      "foo.max()=8.0\n",
      "foo.max(axis=0)=array([8., 8., 8., 6.])\n",
      "foo.max(axis=1)=array([5., 8., 8.])\n",
      "\n",
      "foo.mean()=5.333333333333333\n",
      "foo.mean(axis=0)=array([4.66666667, 6.33333333, 5.66666667, 4.66666667])\n",
      "foo.mean(axis=1)=array([4., 7., 5.])\n"
     ]
    }
   ],
   "source": [
    "# Нахождение минимального, максимального и среднего значений\n",
    "from numpy.random import rand\n",
    "\n",
    "foo = np.round(rand(3, 4) * 10)\n",
    "\n",
    "print(f\"{foo}\")\n",
    "print()\n",
    "print(f\"{foo.min()=}\")\n",
    "print(f\"{foo.min(axis=0)=}\")\n",
    "print(f\"{foo.min(axis=1)=}\")\n",
    "print()\n",
    "print(f\"{foo.max()=}\")\n",
    "print(f\"{foo.max(axis=0)=}\")\n",
    "print(f\"{foo.max(axis=1)=}\")\n",
    "print()\n",
    "print(f\"{foo.mean()=}\")\n",
    "print(f\"{foo.mean(axis=0)=}\")\n",
    "print(f\"{foo.mean(axis=1)=}\")"
   ]
  },
  {
   "cell_type": "code",
   "execution_count": 83,
   "id": "3af53ab9",
   "metadata": {},
   "outputs": [
    {
     "name": "stdout",
     "output_type": "stream",
     "text": [
      "[[ 4.  7.  1.  9.]\n",
      " [ 6.  8.  9.  4.]\n",
      " [ 9.  4. 10.  9.]]\n",
      "\n",
      "foo.argmin()=2\n",
      "foo.argmin(axis=0)=array([0, 2, 0, 1], dtype=int64)\n",
      "foo.argmin(axis=1)=array([2, 3, 1], dtype=int64)\n",
      "\n",
      "foo.argmax()=10\n",
      "foo.argmax(axis=0)=array([2, 1, 2, 0], dtype=int64)\n",
      "foo.argmax(axis=1)=array([3, 2, 2], dtype=int64)\n"
     ]
    }
   ],
   "source": [
    "# Нахождение индексов минимального и максимального значений\n",
    "from numpy.random import rand\n",
    "\n",
    "foo = np.round(rand(3, 4) * 10)\n",
    "\n",
    "print(f\"{foo}\")\n",
    "print()\n",
    "print(f\"{foo.argmin()=}\")\n",
    "print(f\"{foo.argmin(axis=0)=}\")\n",
    "print(f\"{foo.argmin(axis=1)=}\")\n",
    "print()\n",
    "print(f\"{foo.argmax()=}\")\n",
    "print(f\"{foo.argmax(axis=0)=}\")\n",
    "print(f\"{foo.argmax(axis=1)=}\")"
   ]
  },
  {
   "cell_type": "code",
   "execution_count": 84,
   "id": "1aee880e",
   "metadata": {},
   "outputs": [
    {
     "name": "stdout",
     "output_type": "stream",
     "text": [
      "[[ 3. 10.  7.  3.]\n",
      " [ 1.  5.  2.  2.]\n",
      " [ 1.  8.  6.  9.]]\n",
      "\n",
      "[[ 3. 10.  7.  3.  1.  5.  2.  2.  1.  8.  6.  9.]]\n",
      "\n",
      "[[ 3. 10.  7.  3.  1.  5.]\n",
      " [ 2.  2.  1.  8.  6.  9.]]\n"
     ]
    }
   ],
   "source": [
    "# Изменение формы массива\n",
    "from numpy.random import rand\n",
    "\n",
    "foo = np.round(rand(3, 4) * 10)\n",
    "\n",
    "print(f\"{foo}\")\n",
    "print()\n",
    "\n",
    "bar = foo.reshape((1, 12))\n",
    "baz = foo.reshape((2, 6))\n",
    "\n",
    "print(f\"{bar}\")\n",
    "print()\n",
    "print(f\"{baz}\")"
   ]
  },
  {
   "cell_type": "code",
   "execution_count": 86,
   "id": "1af1485a",
   "metadata": {},
   "outputs": [
    {
     "name": "stdout",
     "output_type": "stream",
     "text": [
      "[[ 0.  1.  2. 10.]\n",
      " [ 6.  0.  3.  9.]\n",
      " [ 3.  7.  4.  9.]]\n",
      "\n"
     ]
    }
   ],
   "source": [
    "# Ошибка при изменении формы массива\n",
    "from numpy.random import rand\n",
    "\n",
    "foo = np.round(rand(3, 4) * 10)\n",
    "\n",
    "print(f\"{foo}\")\n",
    "print()\n",
    "\n",
    "# Ошибка!\n",
    "# bar = foo.reshape((3, 5))"
   ]
  },
  {
   "cell_type": "code",
   "execution_count": 90,
   "id": "44e68c2f",
   "metadata": {},
   "outputs": [
    {
     "name": "stdout",
     "output_type": "stream",
     "text": [
      "[[ 1.  2.  6.  2.]\n",
      " [ 1.  2.  4. 10.]\n",
      " [ 0.  4.  1.  3.]]\n",
      "\n",
      "[[ 1.  2.  6.  2.  1.]\n",
      " [ 2.  4. 10.  0.  4.]\n",
      " [ 1.  3.  0.  0.  0.]]\n",
      "\n",
      "[[1. 2.]\n",
      " [6. 2.]\n",
      " [1. 2.]]\n"
     ]
    }
   ],
   "source": [
    "# Изменение размера массива\n",
    "from numpy.random import rand\n",
    "\n",
    "foo = np.round(rand(3, 4) * 10)\n",
    "\n",
    "print(f\"{foo}\")\n",
    "print()\n",
    "\n",
    "foo.resize((3, 5))\n",
    "print(f\"{foo}\")\n",
    "print()\n",
    "\n",
    "foo.resize((3, 2))\n",
    "print(f\"{foo}\")"
   ]
  },
  {
   "cell_type": "code",
   "execution_count": 91,
   "id": "5fa20d3d",
   "metadata": {},
   "outputs": [],
   "source": [
    "# Выделение срезов для одномерных массивов"
   ]
  },
  {
   "cell_type": "code",
   "execution_count": 92,
   "id": "4c8aa7f7",
   "metadata": {},
   "outputs": [],
   "source": [
    "# Выделение срезов для двумерных массивов"
   ]
  },
  {
   "cell_type": "code",
   "execution_count": null,
   "id": "90fcb023",
   "metadata": {},
   "outputs": [],
   "source": [
    "# Копирование массивов"
   ]
  }
 ],
 "metadata": {
  "kernelspec": {
   "display_name": "Python 3 (ipykernel)",
   "language": "python",
   "name": "python3"
  },
  "language_info": {
   "codemirror_mode": {
    "name": "ipython",
    "version": 3
   },
   "file_extension": ".py",
   "mimetype": "text/x-python",
   "name": "python",
   "nbconvert_exporter": "python",
   "pygments_lexer": "ipython3",
   "version": "3.12.3"
  }
 },
 "nbformat": 4,
 "nbformat_minor": 5
}
